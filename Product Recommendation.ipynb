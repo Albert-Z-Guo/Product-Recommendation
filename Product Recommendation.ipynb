{
 "cells": [
  {
   "cell_type": "markdown",
   "metadata": {},
   "source": [
    "# Product Recommendation\n",
    "Reference: https://ieeexplore.ieee.org/document/5430993"
   ]
  },
  {
   "cell_type": "code",
   "execution_count": 19,
   "metadata": {},
   "outputs": [],
   "source": [
    "import numpy as np\n",
    "import msgpack\n",
    "import pandas as pd\n",
    "import tensorflow as tf\n",
    "from tqdm import tqdm"
   ]
  },
  {
   "cell_type": "code",
   "execution_count": 2,
   "metadata": {},
   "outputs": [
    {
     "data": {
      "text/plain": [
       "'2.1.0'"
      ]
     },
     "execution_count": 2,
     "metadata": {},
     "output_type": "execute_result"
    }
   ],
   "source": [
    "tf.__version__"
   ]
  },
  {
   "cell_type": "markdown",
   "metadata": {},
   "source": [
    "## Data Preprocessing"
   ]
  },
  {
   "cell_type": "code",
   "execution_count": 3,
   "metadata": {},
   "outputs": [],
   "source": [
    "Y_data = pd.read_csv('data/Y.csv', header=None, names=['Rating','Movie','User'], dtype=int) # training data\n",
    "P_data = pd.read_csv('data/P.csv', header=None, names=['Rating','Movie','User'], dtype=int) # test data ('probe-set' mentioned in paper)"
   ]
  },
  {
   "cell_type": "code",
   "execution_count": 36,
   "metadata": {
    "scrolled": false
   },
   "outputs": [
    {
     "data": {
      "text/html": [
       "<div>\n",
       "<style scoped>\n",
       "    .dataframe tbody tr th:only-of-type {\n",
       "        vertical-align: middle;\n",
       "    }\n",
       "\n",
       "    .dataframe tbody tr th {\n",
       "        vertical-align: top;\n",
       "    }\n",
       "\n",
       "    .dataframe thead th {\n",
       "        text-align: right;\n",
       "    }\n",
       "</style>\n",
       "<table border=\"1\" class=\"dataframe\">\n",
       "  <thead>\n",
       "    <tr style=\"text-align: right;\">\n",
       "      <th></th>\n",
       "      <th>Rating</th>\n",
       "      <th>Movie</th>\n",
       "      <th>User</th>\n",
       "    </tr>\n",
       "  </thead>\n",
       "  <tbody>\n",
       "    <tr>\n",
       "      <th>0</th>\n",
       "      <td>5</td>\n",
       "      <td>2</td>\n",
       "      <td>1</td>\n",
       "    </tr>\n",
       "    <tr>\n",
       "      <th>1</th>\n",
       "      <td>4</td>\n",
       "      <td>7</td>\n",
       "      <td>1</td>\n",
       "    </tr>\n",
       "    <tr>\n",
       "      <th>2</th>\n",
       "      <td>4</td>\n",
       "      <td>8</td>\n",
       "      <td>1</td>\n",
       "    </tr>\n",
       "    <tr>\n",
       "      <th>3</th>\n",
       "      <td>4</td>\n",
       "      <td>11</td>\n",
       "      <td>1</td>\n",
       "    </tr>\n",
       "    <tr>\n",
       "      <th>4</th>\n",
       "      <td>4</td>\n",
       "      <td>12</td>\n",
       "      <td>1</td>\n",
       "    </tr>\n",
       "  </tbody>\n",
       "</table>\n",
       "</div>"
      ],
      "text/plain": [
       "   Rating  Movie  User\n",
       "0       5      2     1\n",
       "1       4      7     1\n",
       "2       4      8     1\n",
       "3       4     11     1\n",
       "4       4     12     1"
      ]
     },
     "metadata": {},
     "output_type": "display_data"
    },
    {
     "data": {
      "text/html": [
       "<div>\n",
       "<style scoped>\n",
       "    .dataframe tbody tr th:only-of-type {\n",
       "        vertical-align: middle;\n",
       "    }\n",
       "\n",
       "    .dataframe tbody tr th {\n",
       "        vertical-align: top;\n",
       "    }\n",
       "\n",
       "    .dataframe thead th {\n",
       "        text-align: right;\n",
       "    }\n",
       "</style>\n",
       "<table border=\"1\" class=\"dataframe\">\n",
       "  <thead>\n",
       "    <tr style=\"text-align: right;\">\n",
       "      <th></th>\n",
       "      <th>Rating</th>\n",
       "      <th>Movie</th>\n",
       "      <th>User</th>\n",
       "    </tr>\n",
       "  </thead>\n",
       "  <tbody>\n",
       "    <tr>\n",
       "      <th>0</th>\n",
       "      <td>3</td>\n",
       "      <td>6</td>\n",
       "      <td>1</td>\n",
       "    </tr>\n",
       "    <tr>\n",
       "      <th>1</th>\n",
       "      <td>5</td>\n",
       "      <td>96</td>\n",
       "      <td>1</td>\n",
       "    </tr>\n",
       "    <tr>\n",
       "      <th>2</th>\n",
       "      <td>3</td>\n",
       "      <td>1</td>\n",
       "      <td>2</td>\n",
       "    </tr>\n",
       "    <tr>\n",
       "      <th>3</th>\n",
       "      <td>3</td>\n",
       "      <td>33</td>\n",
       "      <td>3</td>\n",
       "    </tr>\n",
       "    <tr>\n",
       "      <th>4</th>\n",
       "      <td>5</td>\n",
       "      <td>42</td>\n",
       "      <td>4</td>\n",
       "    </tr>\n",
       "  </tbody>\n",
       "</table>\n",
       "</div>"
      ],
      "text/plain": [
       "   Rating  Movie  User\n",
       "0       3      6     1\n",
       "1       5     96     1\n",
       "2       3      1     2\n",
       "3       3     33     3\n",
       "4       5     42     4"
      ]
     },
     "metadata": {},
     "output_type": "display_data"
    }
   ],
   "source": [
    "display(Y_data.head())\n",
    "display(P_data.head())"
   ]
  },
  {
   "cell_type": "code",
   "execution_count": 37,
   "metadata": {},
   "outputs": [
    {
     "data": {
      "text/plain": [
       "((3399874, 3), (189699, 3))"
      ]
     },
     "execution_count": 37,
     "metadata": {},
     "output_type": "execute_result"
    }
   ],
   "source": [
    "Y_data.shape, P_data.shape"
   ]
  },
  {
   "cell_type": "code",
   "execution_count": 87,
   "metadata": {},
   "outputs": [
    {
     "name": "stdout",
     "output_type": "stream",
     "text": [
      "5 100 137328\n",
      "5 100 137328\n"
     ]
    }
   ],
   "source": [
    "print(Y_data['Rating'].unique().max(), Y_data['Movie'].unique().max(), Y_data['User'].unique().max())\n",
    "print(P_data['Rating'].unique().max(), P_data['Movie'].unique().max(), P_data['User'].unique().max())"
   ]
  },
  {
   "cell_type": "code",
   "execution_count": 214,
   "metadata": {},
   "outputs": [
    {
     "data": {
      "text/plain": [
       "(100, 137328)"
      ]
     },
     "execution_count": 214,
     "metadata": {},
     "output_type": "execute_result"
    }
   ],
   "source": [
    "k, n = Y_data['Movie'].unique().max(), Y_data['User'].unique().max()\n",
    "k, n"
   ]
  },
  {
   "cell_type": "code",
   "execution_count": 215,
   "metadata": {},
   "outputs": [
    {
     "name": "stdout",
     "output_type": "stream",
     "text": [
      "(3399874, 2)\n"
     ]
    },
    {
     "data": {
      "text/plain": [
       "array([[     1,      0],\n",
       "       [     6,      0],\n",
       "       [     7,      0],\n",
       "       ...,\n",
       "       [    97, 137327],\n",
       "       [    98, 137327],\n",
       "       [    99, 137327]])"
      ]
     },
     "execution_count": 215,
     "metadata": {},
     "output_type": "execute_result"
    }
   ],
   "source": [
    "indices = np.reshape(Y_data[['Movie', 'User']].values-1, (-1, 2))\n",
    "print(indices.shape)\n",
    "indices"
   ]
  },
  {
   "cell_type": "code",
   "execution_count": 11,
   "metadata": {},
   "outputs": [],
   "source": [
    "Z_sparse = tf.SparseTensor(indices=indices, values=Y_data['Rating'].values, dense_shape=[k, n])\n",
    "Z_sparse = tf.cast(Y_sparse, tf.float32)"
   ]
  },
  {
   "cell_type": "code",
   "execution_count": 89,
   "metadata": {},
   "outputs": [
    {
     "name": "stdout",
     "output_type": "stream",
     "text": [
      "CPU times: user 18.7 ms, sys: 839 µs, total: 19.5 ms\n",
      "Wall time: 18.3 ms\n"
     ]
    }
   ],
   "source": [
    "%%time\n",
    "Z_0 = tf.sparse.slice(Z_sparse, [0, 0], [100,1])"
   ]
  },
  {
   "cell_type": "code",
   "execution_count": 12,
   "metadata": {
    "scrolled": true
   },
   "outputs": [
    {
     "data": {
      "text/plain": [
       "<tf.Tensor: shape=(100, 137328), dtype=float32, numpy=\n",
       "array([[0., 0., 0., ..., 0., 0., 0.],\n",
       "       [5., 0., 0., ..., 0., 0., 3.],\n",
       "       [0., 0., 0., ..., 3., 0., 0.],\n",
       "       ...,\n",
       "       [5., 0., 0., ..., 4., 0., 4.],\n",
       "       [4., 0., 3., ..., 0., 0., 4.],\n",
       "       [3., 4., 0., ..., 4., 5., 4.]], dtype=float32)>"
      ]
     },
     "execution_count": 12,
     "metadata": {},
     "output_type": "execute_result"
    }
   ],
   "source": [
    "# use dense matrices for faster linear transformations since all matrices can fit in memory\n",
    "Z = tf.sparse.to_dense(Z_sparse, validate_indices=False)\n",
    "Z"
   ]
  },
  {
   "cell_type": "code",
   "execution_count": 22,
   "metadata": {
    "scrolled": true
   },
   "outputs": [
    {
     "name": "stderr",
     "output_type": "stream",
     "text": [
      "100%|██████████| 137328/137328 [13:51<00:00, 165.19it/s] \n"
     ]
    }
   ],
   "source": [
    "# memoization\n",
    "t_Z_dict = {}\n",
    "t_y_dict = {}\n",
    "t_x_dict = {}\n",
    "t_Hy_dict = {}\n",
    "t_Hx_dict = {}\n",
    "t_Hy_trans_dict = {}\n",
    "t_Hx_trans_dict = {}\n",
    "t_movie_ids_labels_dict = {}\n",
    "t_labels_dict = {}\n",
    "\n",
    "for t in tqdm(range(n)):\n",
    "    movie_ids = Y_data['Movie'][Y_data['User']==t+1].values\n",
    "    H_yt = tf.constant(np.identity(k)[movie_ids-1], dtype=tf.float32)\n",
    "    H_xt = tf.constant(np.delete(np.identity(k), movie_ids-1, 0), dtype=tf.float32)\n",
    "    Z_t = tf.expand_dims(Z[:, t], axis=1)\n",
    "    y_t = tf.matmul(H_yt, Z_t)\n",
    "    x_t = tf.matmul(H_xt, Z_t)\n",
    "    \n",
    "    # store the variables for fast future reference\n",
    "    t_Hy_dict[t] = H_yt\n",
    "    t_Hx_dict[t] = H_xt\n",
    "    t_Hx_trans_dict[t] = tf.transpose(H_xt)\n",
    "    t_Hy_trans_dict[t] = tf.transpose(H_yt)\n",
    "    \n",
    "    t_x_dict[t] = x_t\n",
    "    t_y_dict[t] = y_t\n",
    "    t_Z_dict[t] = Z_t\n",
    "    \n",
    "    t_movie_ids_labels_dict[t] = P_data['Movie'][P_data['User']==t+1].values\n",
    "    t_labels_dict[t] = tf.expand_dims(P_data['Rating'][P_data['User']==t+1].values, axis=1)"
   ]
  },
  {
   "cell_type": "markdown",
   "metadata": {},
   "source": [
    "## Initialization\n",
    "$\\mu$ has 1 type available <br />\n",
    "R has 4 types available"
   ]
  },
  {
   "cell_type": "code",
   "execution_count": 38,
   "metadata": {},
   "outputs": [
    {
     "name": "stderr",
     "output_type": "stream",
     "text": [
      "100%|██████████| 137328/137328 [00:26<00:00, 5134.64it/s]\n"
     ]
    }
   ],
   "source": [
    "# initial estimate of mu\n",
    "N = 0\n",
    "H_yty_t = 0\n",
    "for t in tqdm(range(n)):\n",
    "    H_yt = t_Hy_dict[t]\n",
    "    N += tf.matmul(tf.transpose(H_yt), H_yt)\n",
    "    Z_t = t_Z_dict[t]\n",
    "    y_t = t_y_dict[t]\n",
    "    H_yty_t += tf.matmul(tf.transpose(H_yt), y_t)"
   ]
  },
  {
   "cell_type": "code",
   "execution_count": 66,
   "metadata": {},
   "outputs": [
    {
     "name": "stdout",
     "output_type": "stream",
     "text": [
      "(100, 100)\n",
      "(100, 1)\n"
     ]
    },
    {
     "data": {
      "text/plain": [
       "TensorShape([100, 1])"
      ]
     },
     "execution_count": 66,
     "metadata": {},
     "output_type": "execute_result"
    }
   ],
   "source": [
    "print(N.shape)\n",
    "print(H_yty_t.shape)\n",
    "mu_hat0 = tf.matmul(tf.linalg.inv(N), H_yty_t)\n",
    "mu_hat0.shape"
   ]
  },
  {
   "cell_type": "code",
   "execution_count": 75,
   "metadata": {},
   "outputs": [
    {
     "data": {
      "text/plain": [
       "<tf.Tensor: shape=(100, 100), dtype=float32, numpy=\n",
       "array([[1., 0., 0., ..., 0., 0., 0.],\n",
       "       [0., 1., 0., ..., 0., 0., 0.],\n",
       "       [0., 0., 1., ..., 0., 0., 0.],\n",
       "       ...,\n",
       "       [0., 0., 0., ..., 1., 0., 0.],\n",
       "       [0., 0., 0., ..., 0., 1., 0.],\n",
       "       [0., 0., 0., ..., 0., 0., 1.]], dtype=float32)>"
      ]
     },
     "execution_count": 75,
     "metadata": {},
     "output_type": "execute_result"
    }
   ],
   "source": [
    "# initial estimates of R (4 types available)\n",
    "R_hat0_1 = tf.constant(np.identity(k), dtype=tf.float32)\n",
    "R_hat0_1"
   ]
  },
  {
   "cell_type": "code",
   "execution_count": 53,
   "metadata": {
    "scrolled": true
   },
   "outputs": [
    {
     "name": "stderr",
     "output_type": "stream",
     "text": [
      "100%|██████████| 137328/137328 [00:35<00:00, 3911.98it/s]\n"
     ]
    }
   ],
   "source": [
    "S = 0\n",
    "for t in tqdm(range(n)):\n",
    "    Hyt = t_Hy_dict[t]\n",
    "    yt = t_y_dict[t]\n",
    "    Hytmu_hat_0 = tf.matmul(Hyt, mu_hat_0)\n",
    "    S += tf.matmul(tf.transpose(Hyt), tf.matmul(yt - Hytmu_hat_0, tf.matmul(tf.transpose(yt - Hytmu_hat_0), Hyt)))"
   ]
  },
  {
   "cell_type": "code",
   "execution_count": 77,
   "metadata": {
    "scrolled": true
   },
   "outputs": [
    {
     "data": {
      "text/plain": [
       "<tf.Tensor: shape=(100, 100), dtype=float32, numpy=\n",
       "array([[1.724364  , 0.        , 0.        , ..., 0.        , 0.        ,\n",
       "        0.        ],\n",
       "       [0.        , 0.94215506, 0.        , ..., 0.        , 0.        ,\n",
       "        0.        ],\n",
       "       [0.        , 0.        , 1.4365153 , ..., 0.        , 0.        ,\n",
       "        0.        ],\n",
       "       ...,\n",
       "       [0.        , 0.        , 0.        , ..., 1.1832098 , 0.        ,\n",
       "        0.        ],\n",
       "       [0.        , 0.        , 0.        , ..., 0.        , 1.0349715 ,\n",
       "        0.        ],\n",
       "       [0.        , 0.        , 0.        , ..., 0.        , 0.        ,\n",
       "        1.2620207 ]], dtype=float32)>"
      ]
     },
     "execution_count": 77,
     "metadata": {},
     "output_type": "execute_result"
    }
   ],
   "source": [
    "# diag_S is the diagonal matrix consisting of the diagonal elements of S\n",
    "diag_S = tf.linalg.diag(tf.linalg.tensor_diag_part(S))\n",
    "R_hat0_2 = tf.matmul(tf.linalg.inv(N), diag_S)\n",
    "R_hat0_2"
   ]
  },
  {
   "cell_type": "code",
   "execution_count": 82,
   "metadata": {},
   "outputs": [
    {
     "data": {
      "text/plain": [
       "<tf.Tensor: shape=(100, 100), dtype=float32, numpy=\n",
       "array([[ 1.        ,  0.07418475, -0.01158332, ..., -0.01462824,\n",
       "        -0.02215266, -0.01845053],\n",
       "       [ 0.07418474,  1.        ,  0.03674483, ...,  0.02561698,\n",
       "         0.03563043,  0.03926768],\n",
       "       [-0.01158332,  0.03674483,  0.9999999 , ...,  0.10954399,\n",
       "         0.12823027,  0.1556249 ],\n",
       "       ...,\n",
       "       [-0.01462824,  0.02561698,  0.10954399, ...,  1.        ,\n",
       "         0.19780062,  0.15164362],\n",
       "       [-0.02215266,  0.03563043,  0.12823027, ...,  0.19780062,\n",
       "         1.0000001 ,  0.18997027],\n",
       "       [-0.01845053,  0.03926769,  0.1556249 , ...,  0.15164363,\n",
       "         0.18997027,  1.        ]], dtype=float32)>"
      ]
     },
     "execution_count": 82,
     "metadata": {},
     "output_type": "execute_result"
    }
   ],
   "source": [
    "# R_hat0_3 is not a good initializer when rating variances are far from one\n",
    "R_hat0_3 = tf.matmul(tf.linalg.sqrtm(tf.linalg.inv(diag_S)), tf.matmul(S, tf.linalg.sqrtm(tf.linalg.inv(diag_S))))\n",
    "R_hat0_3"
   ]
  },
  {
   "cell_type": "code",
   "execution_count": 83,
   "metadata": {
    "scrolled": true
   },
   "outputs": [
    {
     "data": {
      "text/plain": [
       "<tf.Tensor: shape=(100, 100), dtype=float32, numpy=\n",
       "array([[ 1.724364  ,  0.09455624, -0.01823068, ..., -0.02089477,\n",
       "        -0.02959407, -0.02721801],\n",
       "       [ 0.09455624,  0.94215494,  0.04274768, ...,  0.02704705,\n",
       "         0.03518409,  0.04281832],\n",
       "       [-0.01823068,  0.04274768,  1.4365153 , ...,  0.14281526,\n",
       "         0.15635432,  0.20954023],\n",
       "       ...,\n",
       "       [-0.02089477,  0.02704705,  0.14281526, ...,  1.1832099 ,\n",
       "         0.21888836,  0.18530548],\n",
       "       [-0.02959406,  0.03518409,  0.15635432, ...,  0.21888837,\n",
       "         1.0349715 ,  0.2171116 ],\n",
       "       [-0.02721802,  0.04281832,  0.20954023, ...,  0.18530548,\n",
       "         0.2171116 ,  1.2620206 ]], dtype=float32)>"
      ]
     },
     "execution_count": 83,
     "metadata": {},
     "output_type": "execute_result"
    }
   ],
   "source": [
    "R_hat0_4 = tf.matmul(tf.linalg.sqrtm(tf.linalg.inv(N)), tf.matmul(S, tf.linalg.sqrtm(tf.linalg.inv(N))))\n",
    "R_hat0_4"
   ]
  },
  {
   "cell_type": "code",
   "execution_count": 252,
   "metadata": {},
   "outputs": [
    {
     "name": "stdout",
     "output_type": "stream",
     "text": [
      "CPU times: user 2 µs, sys: 1e+03 ns, total: 3 µs\n",
      "Wall time: 6.91 µs\n"
     ]
    }
   ],
   "source": [
    "%%time\n",
    "a = t_Hx_dict[0]"
   ]
  },
  {
   "cell_type": "code",
   "execution_count": 263,
   "metadata": {},
   "outputs": [
    {
     "name": "stdout",
     "output_type": "stream",
     "text": [
      "CPU times: user 149 µs, sys: 23 µs, total: 172 µs\n",
      "Wall time: 159 µs\n"
     ]
    },
    {
     "data": {
      "text/plain": [
       "<tf.Tensor: shape=(10,), dtype=int64, numpy=array([1, 1, 1, 1, 2, 3, 4, 5, 5, 5])>"
      ]
     },
     "execution_count": 263,
     "metadata": {},
     "output_type": "execute_result"
    }
   ],
   "source": [
    "%%time\n",
    "tf.transpose(a)"
   ]
  },
  {
   "cell_type": "markdown",
   "metadata": {},
   "source": [
    "## Expectation Maximization Algorithm"
   ]
  },
  {
   "cell_type": "code",
   "execution_count": 237,
   "metadata": {},
   "outputs": [],
   "source": [
    "def expectation_maximization(mu, R):\n",
    "    Hyt_trans_Ryt_inv_Hyt_sum = 0\n",
    "    Hyt_trans_Ryt_inv_yt_sum = 0\n",
    "    R_hat_sum = 0\n",
    "    log_p_hat = 0\n",
    "\n",
    "    for t in tqdm(range(n)):\n",
    "        y_t = t_y_dict[t]\n",
    "        H_xt = t_Hx_dict[t]\n",
    "        H_xt_trans = t_Hx_trans_dict[t]\n",
    "        H_yt = t_Hy_dict[t]\n",
    "        H_yt_trans = t_Hy_trans_dict[t]\n",
    "        \n",
    "        # for R estimation\n",
    "        R_xt = tf.matmul(H_xt, tf.matmul(R, H_xt_trans))\n",
    "        R_yt = tf.matmul(H_yt, tf.matmul(R, H_yt_trans))\n",
    "        R_yt_det = tf.linalg.det(R_yt)\n",
    "        R_yt_inv = tf.linalg.inv(R_yt)\n",
    "        R_xtyt = tf.matmul(H_xt, tf.matmul(R, H_yt_trans))\n",
    "        \n",
    "        mu_yt = tf.matmul(H_yt, mu)\n",
    "        mu_xt = tf.matmul(H_xt, mu)\n",
    "\n",
    "        X_t_hat = tf.matmul(R_xtyt, tf.matmul(R_yt_inv, y_t - mu_yt)) + mu_xt\n",
    "        Z_t_hat = tf.matmul(H_yt_trans, y_t) + tf.matmul(H_xt_trans, X_t_hat)\n",
    "        R_hat_sum += tf.matmul(Z_t_hat - mu, tf.transpose(Z_t_hat - mu)) + \\\n",
    "                    tf.matmul(H_xt_trans, \n",
    "                              tf.matmul(R_xt - tf.matmul(R_xtyt, tf.matmul(R_yt_inv, tf.transpose(R_xtyt))), \n",
    "                                        H_xt)\n",
    "                             )\n",
    "\n",
    "        # for mu estimation\n",
    "        Hyt_trans_Ryt_inv_Hyt_sum += tf.matmul(H_yt_trans, tf.matmul(R_yt_inv, H_yt))\n",
    "        Hyt_trans_Ryt_inv_yt_sum += tf.matmul(H_yt_trans, tf.matmul(R_yt_inv, y_t))\n",
    "        \n",
    "        log_p_hat += -1/2*(tf.math.log(R_yt_det) + tf.matmul(tf.transpose(y_t - mu_yt), tf.matmul(R_yt_inv, y_t - mu_yt))\\\n",
    "                            + k*tf.math.log(2*np.pi))\n",
    "    \n",
    "    R_hat = R_hat_sum / n\n",
    "    mu_hat = tf.matmul(tf.linalg.inv(Hyt_trans_Ryt_inv_Hyt_sum), Hyt_trans_Ryt_inv_yt_sum)    \n",
    "    return mu_hat, R_hat, log_p_hat"
   ]
  },
  {
   "cell_type": "code",
   "execution_count": 155,
   "metadata": {
    "scrolled": true
   },
   "outputs": [
    {
     "name": "stderr",
     "output_type": "stream",
     "text": [
      "  0%|          | 130/137328 [00:00<03:41, 618.72it/s]"
     ]
    },
    {
     "name": "stdout",
     "output_type": "stream",
     "text": [
      "iteration: 0\n"
     ]
    },
    {
     "name": "stderr",
     "output_type": "stream",
     "text": [
      "100%|██████████| 137328/137328 [03:07<00:00, 734.15it/s]\n",
      "  0%|          | 69/137328 [00:00<03:20, 684.93it/s]"
     ]
    },
    {
     "name": "stdout",
     "output_type": "stream",
     "text": [
      "normalized log_p_next: tf.Tensor([[-101.37641]], shape=(1, 1), dtype=float32)\n",
      "normalized log_p: -inf\n",
      "diff: tf.Tensor([[inf]], shape=(1, 1), dtype=float32)\n"
     ]
    },
    {
     "name": "stderr",
     "output_type": "stream",
     "text": [
      "100%|██████████| 137328/137328 [03:07<00:00, 733.60it/s]\n",
      "  0%|          | 71/137328 [00:00<03:16, 699.02it/s]"
     ]
    },
    {
     "name": "stdout",
     "output_type": "stream",
     "text": [
      "normalized log_p_next: tf.Tensor([[-101.077896]], shape=(1, 1), dtype=float32)\n",
      "normalized log_p: tf.Tensor([[-101.37641]], shape=(1, 1), dtype=float32)\n",
      "diff: tf.Tensor([[0.29851532]], shape=(1, 1), dtype=float32)\n"
     ]
    },
    {
     "name": "stderr",
     "output_type": "stream",
     "text": [
      "100%|██████████| 137328/137328 [03:08<00:00, 730.05it/s]\n",
      "  0%|          | 70/137328 [00:00<03:18, 692.01it/s]"
     ]
    },
    {
     "name": "stdout",
     "output_type": "stream",
     "text": [
      "normalized log_p_next: tf.Tensor([[-100.92625]], shape=(1, 1), dtype=float32)\n",
      "normalized log_p: tf.Tensor([[-101.077896]], shape=(1, 1), dtype=float32)\n",
      "diff: tf.Tensor([[0.15164948]], shape=(1, 1), dtype=float32)\n"
     ]
    },
    {
     "name": "stderr",
     "output_type": "stream",
     "text": [
      "100%|██████████| 137328/137328 [03:09<00:00, 724.53it/s]\n",
      "  0%|          | 73/137328 [00:00<03:10, 719.26it/s]"
     ]
    },
    {
     "name": "stdout",
     "output_type": "stream",
     "text": [
      "normalized log_p_next: tf.Tensor([[-100.829994]], shape=(1, 1), dtype=float32)\n",
      "normalized log_p: tf.Tensor([[-100.92625]], shape=(1, 1), dtype=float32)\n",
      "diff: tf.Tensor([[0.09625244]], shape=(1, 1), dtype=float32)\n"
     ]
    },
    {
     "name": "stderr",
     "output_type": "stream",
     "text": [
      "100%|██████████| 137328/137328 [03:10<00:00, 720.38it/s]\n",
      "  0%|          | 72/137328 [00:00<03:12, 711.77it/s]"
     ]
    },
    {
     "name": "stdout",
     "output_type": "stream",
     "text": [
      "normalized log_p_next: tf.Tensor([[-100.764435]], shape=(1, 1), dtype=float32)\n",
      "normalized log_p: tf.Tensor([[-100.829994]], shape=(1, 1), dtype=float32)\n",
      "diff: tf.Tensor([[0.06555939]], shape=(1, 1), dtype=float32)\n",
      "iteration: 5\n"
     ]
    },
    {
     "name": "stderr",
     "output_type": "stream",
     "text": [
      "100%|██████████| 137328/137328 [03:08<00:00, 728.93it/s]\n",
      "  0%|          | 73/137328 [00:00<03:09, 724.41it/s]"
     ]
    },
    {
     "name": "stdout",
     "output_type": "stream",
     "text": [
      "normalized log_p_next: tf.Tensor([[-100.71571]], shape=(1, 1), dtype=float32)\n",
      "normalized log_p: tf.Tensor([[-100.764435]], shape=(1, 1), dtype=float32)\n",
      "diff: tf.Tensor([[0.04872131]], shape=(1, 1), dtype=float32)\n"
     ]
    },
    {
     "name": "stderr",
     "output_type": "stream",
     "text": [
      "100%|██████████| 137328/137328 [03:13<00:00, 709.40it/s]\n",
      "  0%|          | 71/137328 [00:00<03:13, 707.89it/s]"
     ]
    },
    {
     "name": "stdout",
     "output_type": "stream",
     "text": [
      "normalized log_p_next: tf.Tensor([[-100.6801]], shape=(1, 1), dtype=float32)\n",
      "normalized log_p: tf.Tensor([[-100.71571]], shape=(1, 1), dtype=float32)\n",
      "diff: tf.Tensor([[0.03561401]], shape=(1, 1), dtype=float32)\n"
     ]
    },
    {
     "name": "stderr",
     "output_type": "stream",
     "text": [
      "100%|██████████| 137328/137328 [03:10<00:00, 721.95it/s]\n",
      "  0%|          | 71/137328 [00:00<03:15, 701.68it/s]"
     ]
    },
    {
     "name": "stdout",
     "output_type": "stream",
     "text": [
      "normalized log_p_next: tf.Tensor([[-100.65257]], shape=(1, 1), dtype=float32)\n",
      "normalized log_p: tf.Tensor([[-100.6801]], shape=(1, 1), dtype=float32)\n",
      "diff: tf.Tensor([[0.02752686]], shape=(1, 1), dtype=float32)\n"
     ]
    },
    {
     "name": "stderr",
     "output_type": "stream",
     "text": [
      "100%|██████████| 137328/137328 [03:10<00:00, 721.13it/s]\n",
      "  0%|          | 70/137328 [00:00<03:16, 697.46it/s]"
     ]
    },
    {
     "name": "stdout",
     "output_type": "stream",
     "text": [
      "normalized log_p_next: tf.Tensor([[-100.63232]], shape=(1, 1), dtype=float32)\n",
      "normalized log_p: tf.Tensor([[-100.65257]], shape=(1, 1), dtype=float32)\n",
      "diff: tf.Tensor([[0.02025604]], shape=(1, 1), dtype=float32)\n"
     ]
    },
    {
     "name": "stderr",
     "output_type": "stream",
     "text": [
      "100%|██████████| 137328/137328 [03:11<00:00, 716.89it/s]\n",
      "  0%|          | 68/137328 [00:00<03:22, 679.43it/s]"
     ]
    },
    {
     "name": "stdout",
     "output_type": "stream",
     "text": [
      "normalized log_p_next: tf.Tensor([[-100.61671]], shape=(1, 1), dtype=float32)\n",
      "normalized log_p: tf.Tensor([[-100.63232]], shape=(1, 1), dtype=float32)\n",
      "diff: tf.Tensor([[0.01560974]], shape=(1, 1), dtype=float32)\n",
      "iteration: 10\n"
     ]
    },
    {
     "name": "stderr",
     "output_type": "stream",
     "text": [
      "100%|██████████| 137328/137328 [03:09<00:00, 724.56it/s]\n",
      "  0%|          | 142/137328 [00:00<03:13, 709.47it/s]"
     ]
    },
    {
     "name": "stdout",
     "output_type": "stream",
     "text": [
      "normalized log_p_next: tf.Tensor([[-100.60389]], shape=(1, 1), dtype=float32)\n",
      "normalized log_p: tf.Tensor([[-100.61671]], shape=(1, 1), dtype=float32)\n",
      "diff: tf.Tensor([[0.01281738]], shape=(1, 1), dtype=float32)\n"
     ]
    },
    {
     "name": "stderr",
     "output_type": "stream",
     "text": [
      "100%|██████████| 137328/137328 [03:07<00:00, 731.73it/s]\n",
      "  0%|          | 71/137328 [00:00<03:13, 707.77it/s]"
     ]
    },
    {
     "name": "stdout",
     "output_type": "stream",
     "text": [
      "normalized log_p_next: tf.Tensor([[-100.59409]], shape=(1, 1), dtype=float32)\n",
      "normalized log_p: tf.Tensor([[-100.60389]], shape=(1, 1), dtype=float32)\n",
      "diff: tf.Tensor([[0.00979614]], shape=(1, 1), dtype=float32)\n"
     ]
    },
    {
     "name": "stderr",
     "output_type": "stream",
     "text": [
      "100%|██████████| 137328/137328 [03:07<00:00, 731.37it/s]\n",
      "  0%|          | 72/137328 [00:00<03:10, 719.24it/s]"
     ]
    },
    {
     "name": "stdout",
     "output_type": "stream",
     "text": [
      "normalized log_p_next: tf.Tensor([[-100.586395]], shape=(1, 1), dtype=float32)\n",
      "normalized log_p: tf.Tensor([[-100.59409]], shape=(1, 1), dtype=float32)\n",
      "diff: tf.Tensor([[0.00769806]], shape=(1, 1), dtype=float32)\n"
     ]
    },
    {
     "name": "stderr",
     "output_type": "stream",
     "text": [
      "100%|██████████| 137328/137328 [03:08<00:00, 726.99it/s]\n",
      "  0%|          | 72/137328 [00:00<03:12, 714.43it/s]"
     ]
    },
    {
     "name": "stdout",
     "output_type": "stream",
     "text": [
      "normalized log_p_next: tf.Tensor([[-100.58055]], shape=(1, 1), dtype=float32)\n",
      "normalized log_p: tf.Tensor([[-100.586395]], shape=(1, 1), dtype=float32)\n",
      "diff: tf.Tensor([[0.00584412]], shape=(1, 1), dtype=float32)\n"
     ]
    },
    {
     "name": "stderr",
     "output_type": "stream",
     "text": [
      "100%|██████████| 137328/137328 [03:08<00:00, 728.02it/s]\n",
      "  0%|          | 75/137328 [00:00<03:04, 742.09it/s]"
     ]
    },
    {
     "name": "stdout",
     "output_type": "stream",
     "text": [
      "normalized log_p_next: tf.Tensor([[-100.57594]], shape=(1, 1), dtype=float32)\n",
      "normalized log_p: tf.Tensor([[-100.58055]], shape=(1, 1), dtype=float32)\n",
      "diff: tf.Tensor([[0.00460815]], shape=(1, 1), dtype=float32)\n",
      "iteration: 15\n"
     ]
    },
    {
     "name": "stderr",
     "output_type": "stream",
     "text": [
      "100%|██████████| 137328/137328 [03:15<00:00, 702.94it/s]\n",
      "  0%|          | 70/137328 [00:00<03:16, 697.91it/s]"
     ]
    },
    {
     "name": "stdout",
     "output_type": "stream",
     "text": [
      "normalized log_p_next: tf.Tensor([[-100.57171]], shape=(1, 1), dtype=float32)\n",
      "normalized log_p: tf.Tensor([[-100.57594]], shape=(1, 1), dtype=float32)\n",
      "diff: tf.Tensor([[0.00423431]], shape=(1, 1), dtype=float32)\n"
     ]
    },
    {
     "name": "stderr",
     "output_type": "stream",
     "text": [
      "100%|██████████| 137328/137328 [03:13<00:00, 710.11it/s]\n",
      "  0%|          | 73/137328 [00:00<03:10, 719.10it/s]"
     ]
    },
    {
     "name": "stdout",
     "output_type": "stream",
     "text": [
      "normalized log_p_next: tf.Tensor([[-100.568184]], shape=(1, 1), dtype=float32)\n",
      "normalized log_p: tf.Tensor([[-100.57171]], shape=(1, 1), dtype=float32)\n",
      "diff: tf.Tensor([[0.00352478]], shape=(1, 1), dtype=float32)\n"
     ]
    },
    {
     "name": "stderr",
     "output_type": "stream",
     "text": [
      "100%|██████████| 137328/137328 [03:10<00:00, 719.13it/s]\n",
      "  0%|          | 73/137328 [00:00<03:10, 720.08it/s]"
     ]
    },
    {
     "name": "stdout",
     "output_type": "stream",
     "text": [
      "normalized log_p_next: tf.Tensor([[-100.565346]], shape=(1, 1), dtype=float32)\n",
      "normalized log_p: tf.Tensor([[-100.568184]], shape=(1, 1), dtype=float32)\n",
      "diff: tf.Tensor([[0.00283813]], shape=(1, 1), dtype=float32)\n"
     ]
    },
    {
     "name": "stderr",
     "output_type": "stream",
     "text": [
      "100%|██████████| 137328/137328 [03:09<00:00, 723.80it/s]\n",
      "  0%|          | 71/137328 [00:00<03:13, 709.28it/s]"
     ]
    },
    {
     "name": "stdout",
     "output_type": "stream",
     "text": [
      "normalized log_p_next: tf.Tensor([[-100.5636]], shape=(1, 1), dtype=float32)\n",
      "normalized log_p: tf.Tensor([[-100.565346]], shape=(1, 1), dtype=float32)\n",
      "diff: tf.Tensor([[0.00174713]], shape=(1, 1), dtype=float32)\n"
     ]
    },
    {
     "name": "stderr",
     "output_type": "stream",
     "text": [
      "100%|██████████| 137328/137328 [03:09<00:00, 725.34it/s]\n",
      "  0%|          | 72/137328 [00:00<03:11, 715.13it/s]"
     ]
    },
    {
     "name": "stdout",
     "output_type": "stream",
     "text": [
      "normalized log_p_next: tf.Tensor([[-100.56209]], shape=(1, 1), dtype=float32)\n",
      "normalized log_p: tf.Tensor([[-100.5636]], shape=(1, 1), dtype=float32)\n",
      "diff: tf.Tensor([[0.00151062]], shape=(1, 1), dtype=float32)\n",
      "iteration: 20\n"
     ]
    },
    {
     "name": "stderr",
     "output_type": "stream",
     "text": [
      "100%|██████████| 137328/137328 [03:09<00:00, 726.08it/s]\n",
      "  0%|          | 71/137328 [00:00<03:15, 701.76it/s]"
     ]
    },
    {
     "name": "stdout",
     "output_type": "stream",
     "text": [
      "normalized log_p_next: tf.Tensor([[-100.560814]], shape=(1, 1), dtype=float32)\n",
      "normalized log_p: tf.Tensor([[-100.56209]], shape=(1, 1), dtype=float32)\n",
      "diff: tf.Tensor([[0.00127411]], shape=(1, 1), dtype=float32)\n"
     ]
    },
    {
     "name": "stderr",
     "output_type": "stream",
     "text": [
      "100%|██████████| 137328/137328 [03:08<00:00, 727.50it/s]\n",
      "  0%|          | 72/137328 [00:00<03:12, 713.93it/s]"
     ]
    },
    {
     "name": "stdout",
     "output_type": "stream",
     "text": [
      "normalized log_p_next: tf.Tensor([[-100.55973]], shape=(1, 1), dtype=float32)\n",
      "normalized log_p: tf.Tensor([[-100.560814]], shape=(1, 1), dtype=float32)\n",
      "diff: tf.Tensor([[0.00108337]], shape=(1, 1), dtype=float32)\n"
     ]
    },
    {
     "name": "stderr",
     "output_type": "stream",
     "text": [
      "100%|██████████| 137328/137328 [03:09<00:00, 725.78it/s]"
     ]
    },
    {
     "name": "stdout",
     "output_type": "stream",
     "text": [
      "normalized log_p_next: tf.Tensor([[-100.559326]], shape=(1, 1), dtype=float32)\n",
      "normalized log_p: tf.Tensor([[-100.55973]], shape=(1, 1), dtype=float32)\n",
      "diff: tf.Tensor([[0.00040436]], shape=(1, 1), dtype=float32)\n"
     ]
    },
    {
     "name": "stderr",
     "output_type": "stream",
     "text": [
      "\n"
     ]
    }
   ],
   "source": [
    "delta = 0.0005\n",
    "mu = mu_hat0\n",
    "R = R_hat0_4\n",
    "log_p = -np.inf\n",
    "\n",
    "for i in range(30):\n",
    "    if i % 5 == 0:\n",
    "        print(f'iteration: {i}')\n",
    "    \n",
    "    mu_hat, R_hat, log_p_hat = expectation_maximization(mu, R)\n",
    "    \n",
    "    print('normalized log_p_hat:', log_p_hat/n)\n",
    "    print('normalized log_p:', log_p/n)\n",
    "    print('diff:', log_p_hat/n - log_p/n)\n",
    "    if log_p_hat/n - log_p/n < delta:\n",
    "        break\n",
    "        \n",
    "    # use new estimattions for next iteration\n",
    "    mu = mu_hat\n",
    "    R = R_hat\n",
    "    log_p = log_p_hat"
   ]
  },
  {
   "cell_type": "code",
   "execution_count": 181,
   "metadata": {},
   "outputs": [],
   "source": [
    "# 22 iterations, 66 min\n",
    "np.save('results/em_mu.npy', mu_hat)\n",
    "np.save('results/em_R.npy', R_hat)\n",
    "np.save('results/em_log_p.npy', log_p_hat)"
   ]
  },
  {
   "cell_type": "markdown",
   "metadata": {},
   "source": [
    "## McMichael’s Algorithm"
   ]
  },
  {
   "cell_type": "code",
   "execution_count": 260,
   "metadata": {},
   "outputs": [],
   "source": [
    "def mcmichael(mu, R):\n",
    "    gamma = 0.00001\n",
    "    Hyt_trans_Ryt_inv_Hyt_sum = 0\n",
    "    Hyt_trans_Ryt_inv_yt_sum = 0\n",
    "    log_p_gradient = 0\n",
    "    log_p_hat = 0\n",
    "\n",
    "    for t in tqdm(range(n)):\n",
    "        y_t = t_y_dict[t]\n",
    "        H_yt = t_Hy_dict[t]\n",
    "        H_yt_trans = t_Hy_trans_dict[t]\n",
    "        \n",
    "        # for R estimation\n",
    "        R_yt = tf.matmul(H_yt, tf.matmul(R, H_yt_trans))\n",
    "        R_yt_inv = tf.linalg.inv(R_yt)\n",
    "        mu_yt = tf.matmul(H_yt, mu)\n",
    "        \n",
    "        log_p_gradient += tf.matmul(H_yt_trans, \n",
    "                                    tf.matmul(R_yt_inv - tf.matmul(R_yt_inv, \n",
    "                                                                   tf.matmul(y_t - mu_yt, \n",
    "                                                                             tf.matmul(tf.transpose(y_t - mu_yt), R_yt_inv))\n",
    "                                                                  ), H_yt\n",
    "                                             )\n",
    "                                   )\n",
    "\n",
    "        # for mu estimation\n",
    "        Hyt_trans_Ryt_inv_Hyt_sum += tf.matmul(H_yt_trans, tf.matmul(R_yt_inv, H_yt))\n",
    "        Hyt_trans_Ryt_inv_yt_sum += tf.matmul(H_yt_trans, tf.matmul(R_yt_inv, y_t))\n",
    "        \n",
    "        log_p_hat += -1/2*(tf.math.log(R_yt_det) + tf.matmul(tf.transpose(y_t - mu_yt), tf.matmul(R_yt_inv, y_t - mu_yt))\\\n",
    "                            + k*tf.math.log(2*np.pi))\n",
    "\n",
    "\n",
    "    R_hat = R + gamma*tf.matmul(R, tf.matmul(-1/2*log_p_gradient, R))\n",
    "    mu_hat = tf.matmul(tf.linalg.inv(Hyt_trans_Ryt_inv_Hyt_sum), Hyt_trans_Ryt_inv_yt_sum)\n",
    "    return mu_hat, R_hat, log_p_hat"
   ]
  },
  {
   "cell_type": "code",
   "execution_count": 261,
   "metadata": {
    "scrolled": true
   },
   "outputs": [
    {
     "name": "stderr",
     "output_type": "stream",
     "text": [
      "  0%|          | 112/137328 [00:00<02:03, 1111.70it/s]"
     ]
    },
    {
     "name": "stdout",
     "output_type": "stream",
     "text": [
      "iteration: 0\n"
     ]
    },
    {
     "name": "stderr",
     "output_type": "stream",
     "text": [
      "100%|██████████| 137328/137328 [01:37<00:00, 1404.97it/s]\n",
      "  0%|          | 135/137328 [00:00<01:41, 1346.19it/s]"
     ]
    },
    {
     "name": "stdout",
     "output_type": "stream",
     "text": [
      "normalized log_p_hat: tf.Tensor([[-99.37206]], shape=(1, 1), dtype=float32)\n",
      "normalized log_p: -inf\n",
      "diff: tf.Tensor([[inf]], shape=(1, 1), dtype=float32)\n"
     ]
    },
    {
     "name": "stderr",
     "output_type": "stream",
     "text": [
      "100%|██████████| 137328/137328 [01:37<00:00, 1401.79it/s]\n"
     ]
    },
    {
     "name": "stdout",
     "output_type": "stream",
     "text": [
      "normalized log_p_hat: tf.Tensor([[-99.371666]], shape=(1, 1), dtype=float32)\n",
      "normalized log_p: tf.Tensor([[-99.37206]], shape=(1, 1), dtype=float32)\n",
      "diff: tf.Tensor([[0.00039673]], shape=(1, 1), dtype=float32)\n"
     ]
    }
   ],
   "source": [
    "delta = 0.0005\n",
    "mu = mu_hat0\n",
    "R = R_hat0_4\n",
    "log_p = -np.inf\n",
    "\n",
    "for i in range(30):\n",
    "    if i % 5 == 0:\n",
    "        print(f'iteration: {i}')\n",
    "    \n",
    "    mu_hat, R_hat, log_p_hat = mcmichael(mu, R)\n",
    "    \n",
    "    print('normalized log_p_hat:', log_p_hat/n)\n",
    "    print('normalized log_p:', log_p/n)\n",
    "    print('diff:', log_p_hat/n - log_p/n)\n",
    "    if log_p_hat/n - log_p/n < delta:\n",
    "        break\n",
    "        \n",
    "    # use new estimattions for next iteration\n",
    "    mu = mu_hat\n",
    "    R = R_hat\n",
    "    log_p = log_p_hat"
   ]
  },
  {
   "cell_type": "code",
   "execution_count": 262,
   "metadata": {},
   "outputs": [],
   "source": [
    "# 2 iterations, 3 min\n",
    "np.save('results/mcmichael_mu.npy', mu_hat)\n",
    "np.save('results/mcmichael_R.npy', R_hat)\n",
    "np.save('results/mcmichael_log_p.npy', log_p_hat)"
   ]
  },
  {
   "cell_type": "markdown",
   "metadata": {},
   "source": [
    "## Evaluation"
   ]
  },
  {
   "cell_type": "code",
   "execution_count": 273,
   "metadata": {},
   "outputs": [],
   "source": [
    "def evaluate(mu, R):\n",
    "    square_error = 0\n",
    "    l = 0\n",
    "    for t in tqdm(range(n)):\n",
    "        movie_ids_t = t_movie_ids_labels_dict[t]\n",
    "        labels_t = t_labels_dict[t]\n",
    "\n",
    "        # calculate X_t_hat\n",
    "        y_t = t_y_dict[t]\n",
    "        H_xt = t_Hx_dict[t]\n",
    "        H_xt_trans = t_Hx_trans_dict[t]\n",
    "        H_yt = t_Hy_dict[t]\n",
    "        H_yt_trans = t_Hy_trans_dict[t]\n",
    "\n",
    "        R_xt = tf.matmul(H_xt, tf.matmul(R, H_xt_trans))\n",
    "        R_yt = tf.matmul(H_yt, tf.matmul(R, H_yt_trans))\n",
    "        R_yt_inv = tf.linalg.inv(R_yt)\n",
    "\n",
    "        R_xtyt = tf.matmul(H_xt, tf.matmul(R, H_yt_trans))\n",
    "        mu_yt = tf.matmul(H_yt, mu)\n",
    "        mu_xt = tf.matmul(H_xt, mu)\n",
    "\n",
    "        X_t_hat = tf.matmul(R_xtyt, tf.matmul(R_yt_inv, y_t - mu_yt)) + mu_xt\n",
    "\n",
    "        # clip ratings\n",
    "        predictions_t = tf.matmul(H_xt_trans, X_t_hat).numpy()[movie_ids_t-1]\n",
    "        predictions_t[predictions_t > 5] = 5\n",
    "        predictions_t[predictions_t < 1] = 1\n",
    "        \n",
    "        # accumulate square_error and l\n",
    "        square_error += tf.matmul(tf.transpose(labels_t - predictions_t), labels_t - predictions_t)\n",
    "        l += len(labels_t)\n",
    "    return np.sqrt(numerator/l)"
   ]
  },
  {
   "cell_type": "code",
   "execution_count": 259,
   "metadata": {},
   "outputs": [
    {
     "name": "stderr",
     "output_type": "stream",
     "text": [
      "100%|██████████| 137328/137328 [01:22<00:00, 1659.57it/s]\n"
     ]
    },
    {
     "data": {
      "text/plain": [
       "array([[0.85423294]])"
      ]
     },
     "execution_count": 259,
     "metadata": {},
     "output_type": "execute_result"
    }
   ],
   "source": [
    "em_mu = np.load('results/em_mu.npy')\n",
    "em_R = np.load('results/em_R.npy')\n",
    "rmse = evaluate(em_mu, em_R)\n",
    "rmse"
   ]
  },
  {
   "cell_type": "code",
   "execution_count": 274,
   "metadata": {},
   "outputs": [
    {
     "name": "stderr",
     "output_type": "stream",
     "text": [
      "100%|██████████| 137328/137328 [01:21<00:00, 1674.96it/s]\n"
     ]
    },
    {
     "data": {
      "text/plain": [
       "array([[0.85423294]])"
      ]
     },
     "execution_count": 274,
     "metadata": {},
     "output_type": "execute_result"
    }
   ],
   "source": [
    "mcmichael_mu = np.load('results/mcmichael_mu.npy')\n",
    "mcmichael_R = np.load('results/mcmichael_R.npy')\n",
    "rmse = evaluate(mcmichael_mu, mcmichael_R)\n",
    "rmse"
   ]
  },
  {
   "cell_type": "code",
   "execution_count": null,
   "metadata": {},
   "outputs": [],
   "source": []
  }
 ],
 "metadata": {
  "kernelspec": {
   "display_name": "Python 3",
   "language": "python",
   "name": "python3"
  },
  "language_info": {
   "codemirror_mode": {
    "name": "ipython",
    "version": 3
   },
   "file_extension": ".py",
   "mimetype": "text/x-python",
   "name": "python",
   "nbconvert_exporter": "python",
   "pygments_lexer": "ipython3",
   "version": "3.7.7"
  }
 },
 "nbformat": 4,
 "nbformat_minor": 2
}
