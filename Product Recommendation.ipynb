{
 "cells": [
  {
   "cell_type": "markdown",
   "metadata": {},
   "source": [
    "# Product Recommendation\n",
    "Reference: https://ieeexplore.ieee.org/document/5430993"
   ]
  },
  {
   "cell_type": "code",
   "execution_count": 1,
   "metadata": {},
   "outputs": [],
   "source": [
    "import numpy as np\n",
    "import pandas as pd\n",
    "import tensorflow as tf\n",
    "from tqdm import tqdm"
   ]
  },
  {
   "cell_type": "code",
   "execution_count": 2,
   "metadata": {},
   "outputs": [
    {
     "data": {
      "text/plain": [
       "'2.1.0'"
      ]
     },
     "execution_count": 2,
     "metadata": {},
     "output_type": "execute_result"
    }
   ],
   "source": [
    "tf.__version__"
   ]
  },
  {
   "cell_type": "markdown",
   "metadata": {},
   "source": [
    "## Data Preprocessing"
   ]
  },
  {
   "cell_type": "code",
   "execution_count": 3,
   "metadata": {},
   "outputs": [],
   "source": [
    "Y_data = pd.read_csv('data/Y.csv', header=None, names=['Rating','Movie','User'], dtype=int) # training data\n",
    "P_data = pd.read_csv('data/P.csv', header=None, names=['Rating','Movie','User'], dtype=int) # test data ('probe-set' mentioned in paper)"
   ]
  },
  {
   "cell_type": "code",
   "execution_count": 4,
   "metadata": {
    "scrolled": false
   },
   "outputs": [
    {
     "data": {
      "text/html": [
       "<div>\n",
       "<style scoped>\n",
       "    .dataframe tbody tr th:only-of-type {\n",
       "        vertical-align: middle;\n",
       "    }\n",
       "\n",
       "    .dataframe tbody tr th {\n",
       "        vertical-align: top;\n",
       "    }\n",
       "\n",
       "    .dataframe thead th {\n",
       "        text-align: right;\n",
       "    }\n",
       "</style>\n",
       "<table border=\"1\" class=\"dataframe\">\n",
       "  <thead>\n",
       "    <tr style=\"text-align: right;\">\n",
       "      <th></th>\n",
       "      <th>Rating</th>\n",
       "      <th>Movie</th>\n",
       "      <th>User</th>\n",
       "    </tr>\n",
       "  </thead>\n",
       "  <tbody>\n",
       "    <tr>\n",
       "      <th>0</th>\n",
       "      <td>5</td>\n",
       "      <td>2</td>\n",
       "      <td>1</td>\n",
       "    </tr>\n",
       "    <tr>\n",
       "      <th>1</th>\n",
       "      <td>4</td>\n",
       "      <td>7</td>\n",
       "      <td>1</td>\n",
       "    </tr>\n",
       "    <tr>\n",
       "      <th>2</th>\n",
       "      <td>4</td>\n",
       "      <td>8</td>\n",
       "      <td>1</td>\n",
       "    </tr>\n",
       "    <tr>\n",
       "      <th>3</th>\n",
       "      <td>4</td>\n",
       "      <td>11</td>\n",
       "      <td>1</td>\n",
       "    </tr>\n",
       "    <tr>\n",
       "      <th>4</th>\n",
       "      <td>4</td>\n",
       "      <td>12</td>\n",
       "      <td>1</td>\n",
       "    </tr>\n",
       "  </tbody>\n",
       "</table>\n",
       "</div>"
      ],
      "text/plain": [
       "   Rating  Movie  User\n",
       "0       5      2     1\n",
       "1       4      7     1\n",
       "2       4      8     1\n",
       "3       4     11     1\n",
       "4       4     12     1"
      ]
     },
     "metadata": {},
     "output_type": "display_data"
    },
    {
     "data": {
      "text/html": [
       "<div>\n",
       "<style scoped>\n",
       "    .dataframe tbody tr th:only-of-type {\n",
       "        vertical-align: middle;\n",
       "    }\n",
       "\n",
       "    .dataframe tbody tr th {\n",
       "        vertical-align: top;\n",
       "    }\n",
       "\n",
       "    .dataframe thead th {\n",
       "        text-align: right;\n",
       "    }\n",
       "</style>\n",
       "<table border=\"1\" class=\"dataframe\">\n",
       "  <thead>\n",
       "    <tr style=\"text-align: right;\">\n",
       "      <th></th>\n",
       "      <th>Rating</th>\n",
       "      <th>Movie</th>\n",
       "      <th>User</th>\n",
       "    </tr>\n",
       "  </thead>\n",
       "  <tbody>\n",
       "    <tr>\n",
       "      <th>0</th>\n",
       "      <td>3</td>\n",
       "      <td>6</td>\n",
       "      <td>1</td>\n",
       "    </tr>\n",
       "    <tr>\n",
       "      <th>1</th>\n",
       "      <td>5</td>\n",
       "      <td>96</td>\n",
       "      <td>1</td>\n",
       "    </tr>\n",
       "    <tr>\n",
       "      <th>2</th>\n",
       "      <td>3</td>\n",
       "      <td>1</td>\n",
       "      <td>2</td>\n",
       "    </tr>\n",
       "    <tr>\n",
       "      <th>3</th>\n",
       "      <td>3</td>\n",
       "      <td>33</td>\n",
       "      <td>3</td>\n",
       "    </tr>\n",
       "    <tr>\n",
       "      <th>4</th>\n",
       "      <td>5</td>\n",
       "      <td>42</td>\n",
       "      <td>4</td>\n",
       "    </tr>\n",
       "  </tbody>\n",
       "</table>\n",
       "</div>"
      ],
      "text/plain": [
       "   Rating  Movie  User\n",
       "0       3      6     1\n",
       "1       5     96     1\n",
       "2       3      1     2\n",
       "3       3     33     3\n",
       "4       5     42     4"
      ]
     },
     "metadata": {},
     "output_type": "display_data"
    }
   ],
   "source": [
    "display(Y_data.head())\n",
    "display(P_data.head())"
   ]
  },
  {
   "cell_type": "code",
   "execution_count": 5,
   "metadata": {},
   "outputs": [
    {
     "data": {
      "text/plain": [
       "((3399874, 3), (189699, 3))"
      ]
     },
     "execution_count": 5,
     "metadata": {},
     "output_type": "execute_result"
    }
   ],
   "source": [
    "Y_data.shape, P_data.shape"
   ]
  },
  {
   "cell_type": "code",
   "execution_count": 6,
   "metadata": {},
   "outputs": [
    {
     "name": "stdout",
     "output_type": "stream",
     "text": [
      "5 100 137328\n",
      "5 100 137328\n"
     ]
    }
   ],
   "source": [
    "print(Y_data['Rating'].unique().max(), Y_data['Movie'].unique().max(), Y_data['User'].unique().max())\n",
    "print(P_data['Rating'].unique().max(), P_data['Movie'].unique().max(), P_data['User'].unique().max())"
   ]
  },
  {
   "cell_type": "code",
   "execution_count": 7,
   "metadata": {},
   "outputs": [
    {
     "data": {
      "text/plain": [
       "(100, 137328)"
      ]
     },
     "execution_count": 7,
     "metadata": {},
     "output_type": "execute_result"
    }
   ],
   "source": [
    "k, n = Y_data['Movie'].unique().max(), Y_data['User'].unique().max()\n",
    "k, n"
   ]
  },
  {
   "cell_type": "code",
   "execution_count": 8,
   "metadata": {},
   "outputs": [
    {
     "name": "stdout",
     "output_type": "stream",
     "text": [
      "(3399874, 2)\n"
     ]
    },
    {
     "data": {
      "text/plain": [
       "array([[     1,      0],\n",
       "       [     6,      0],\n",
       "       [     7,      0],\n",
       "       ...,\n",
       "       [    97, 137327],\n",
       "       [    98, 137327],\n",
       "       [    99, 137327]])"
      ]
     },
     "execution_count": 8,
     "metadata": {},
     "output_type": "execute_result"
    }
   ],
   "source": [
    "indices = np.reshape(Y_data[['Movie', 'User']].values-1, (-1, 2))\n",
    "print(indices.shape)\n",
    "indices"
   ]
  },
  {
   "cell_type": "code",
   "execution_count": 9,
   "metadata": {},
   "outputs": [],
   "source": [
    "Z_sparse = tf.SparseTensor(indices=indices, values=Y_data['Rating'].values, dense_shape=[k, n])\n",
    "Z_sparse = tf.cast(Z_sparse, tf.float32)"
   ]
  },
  {
   "cell_type": "code",
   "execution_count": 10,
   "metadata": {},
   "outputs": [
    {
     "name": "stdout",
     "output_type": "stream",
     "text": [
      "CPU times: user 19.2 ms, sys: 1.05 ms, total: 20.3 ms\n",
      "Wall time: 18.8 ms\n"
     ]
    }
   ],
   "source": [
    "# %%time\n",
    "# t = 0\n",
    "# Z_t = tf.sparse.slice(Z_sparse, [0, t], [100, 1])"
   ]
  },
  {
   "cell_type": "code",
   "execution_count": 11,
   "metadata": {
    "scrolled": true
   },
   "outputs": [
    {
     "data": {
      "text/plain": [
       "<tf.Tensor: shape=(100, 137328), dtype=float32, numpy=\n",
       "array([[0., 0., 0., ..., 0., 0., 0.],\n",
       "       [5., 0., 0., ..., 0., 0., 3.],\n",
       "       [0., 0., 0., ..., 3., 0., 0.],\n",
       "       ...,\n",
       "       [5., 0., 0., ..., 4., 0., 4.],\n",
       "       [4., 0., 3., ..., 0., 0., 4.],\n",
       "       [3., 4., 0., ..., 4., 5., 4.]], dtype=float32)>"
      ]
     },
     "execution_count": 11,
     "metadata": {},
     "output_type": "execute_result"
    }
   ],
   "source": [
    "# use dense matrices for faster linear transformations since all matrices can fit in memory\n",
    "Z = tf.sparse.to_dense(Z_sparse, validate_indices=False)\n",
    "Z"
   ]
  },
  {
   "cell_type": "code",
   "execution_count": 12,
   "metadata": {
    "scrolled": true
   },
   "outputs": [
    {
     "name": "stderr",
     "output_type": "stream",
     "text": [
      "100%|██████████| 137328/137328 [13:43<00:00, 166.74it/s]\n"
     ]
    }
   ],
   "source": [
    "# memoization\n",
    "t_Z_dict = {}\n",
    "t_y_dict = {}\n",
    "t_x_dict = {}\n",
    "t_Hy_dict = {}\n",
    "t_Hx_dict = {}\n",
    "t_Hy_trans_dict = {}\n",
    "t_Hx_trans_dict = {}\n",
    "t_movie_ids_labels_dict = {}\n",
    "t_labels_dict = {}\n",
    "\n",
    "for t in tqdm(range(n)):\n",
    "    movie_ids = Y_data['Movie'][Y_data['User']==t+1].values\n",
    "    H_yt = tf.constant(np.identity(k)[movie_ids-1], dtype=tf.float32)\n",
    "    H_xt = tf.constant(np.delete(np.identity(k), movie_ids-1, 0), dtype=tf.float32)\n",
    "    Z_t = tf.expand_dims(Z[:, t], axis=1) # alternative: Z_t = tf.sparse.slice(Z_sparse, [0, t], [100, 1]) \n",
    "    y_t = tf.matmul(H_yt, Z_t)\n",
    "    x_t = tf.matmul(H_xt, Z_t)\n",
    "    \n",
    "    # store the variables for fast future reference\n",
    "    t_Hy_dict[t] = H_yt\n",
    "    t_Hx_dict[t] = H_xt\n",
    "    t_Hx_trans_dict[t] = tf.transpose(H_xt)\n",
    "    t_Hy_trans_dict[t] = tf.transpose(H_yt)\n",
    "    \n",
    "    t_x_dict[t] = x_t\n",
    "    t_y_dict[t] = y_t\n",
    "    t_Z_dict[t] = Z_t\n",
    "    \n",
    "    t_movie_ids_labels_dict[t] = P_data['Movie'][P_data['User']==t+1].values\n",
    "    t_labels_dict[t] = tf.expand_dims(P_data['Rating'][P_data['User']==t+1].values, axis=1)"
   ]
  },
  {
   "cell_type": "markdown",
   "metadata": {},
   "source": [
    "## Initialization\n",
    "$\\mu$ has 1 type available <br />\n",
    "R has 4 types available"
   ]
  },
  {
   "cell_type": "code",
   "execution_count": 13,
   "metadata": {},
   "outputs": [
    {
     "name": "stderr",
     "output_type": "stream",
     "text": [
      "100%|██████████| 137328/137328 [00:28<00:00, 4749.78it/s]\n"
     ]
    }
   ],
   "source": [
    "# initial estimate of mu\n",
    "N = 0\n",
    "H_yty_t = 0\n",
    "for t in tqdm(range(n)):\n",
    "    N += tf.matmul(t_Hy_trans_dict[t], t_Hy_dict[t])\n",
    "    H_yty_t += tf.matmul(t_Hy_trans_dict[t], t_y_dict[t])"
   ]
  },
  {
   "cell_type": "code",
   "execution_count": 33,
   "metadata": {},
   "outputs": [
    {
     "data": {
      "text/plain": [
       "<tf.Tensor: shape=(100, 100), dtype=float32, numpy=\n",
       "array([[20017.,     0.,     0., ...,     0.,     0.,     0.],\n",
       "       [    0., 23917.,     0., ...,     0.,     0.,     0.],\n",
       "       [    0.,     0., 31634., ...,     0.,     0.,     0.],\n",
       "       ...,\n",
       "       [    0.,     0.,     0., ..., 60896.,     0.,     0.],\n",
       "       [    0.,     0.,     0., ...,     0., 61521.,     0.],\n",
       "       [    0.,     0.,     0., ...,     0.,     0., 64506.]],\n",
       "      dtype=float32)>"
      ]
     },
     "execution_count": 33,
     "metadata": {},
     "output_type": "execute_result"
    }
   ],
   "source": [
    "# The ith diagonal element of N equals the total number of ratings of the ith product.\n",
    "N"
   ]
  },
  {
   "cell_type": "code",
   "execution_count": 14,
   "metadata": {},
   "outputs": [
    {
     "name": "stdout",
     "output_type": "stream",
     "text": [
      "(100, 100)\n",
      "(100, 1)\n"
     ]
    },
    {
     "data": {
      "text/plain": [
       "TensorShape([100, 1])"
      ]
     },
     "execution_count": 14,
     "metadata": {},
     "output_type": "execute_result"
    }
   ],
   "source": [
    "print(H_yty_t.shape)\n",
    "mu_hat0 = tf.matmul(tf.linalg.inv(N), H_yty_t)\n",
    "mu_hat0.shape"
   ]
  },
  {
   "cell_type": "code",
   "execution_count": 15,
   "metadata": {},
   "outputs": [
    {
     "data": {
      "text/plain": [
       "<tf.Tensor: shape=(100, 100), dtype=float32, numpy=\n",
       "array([[1., 0., 0., ..., 0., 0., 0.],\n",
       "       [0., 1., 0., ..., 0., 0., 0.],\n",
       "       [0., 0., 1., ..., 0., 0., 0.],\n",
       "       ...,\n",
       "       [0., 0., 0., ..., 1., 0., 0.],\n",
       "       [0., 0., 0., ..., 0., 1., 0.],\n",
       "       [0., 0., 0., ..., 0., 0., 1.]], dtype=float32)>"
      ]
     },
     "execution_count": 15,
     "metadata": {},
     "output_type": "execute_result"
    }
   ],
   "source": [
    "# initial estimates of R (4 types available)\n",
    "R_hat0_1 = tf.constant(np.identity(k), dtype=tf.float32)\n",
    "R_hat0_1"
   ]
  },
  {
   "cell_type": "code",
   "execution_count": 17,
   "metadata": {
    "scrolled": true
   },
   "outputs": [
    {
     "name": "stderr",
     "output_type": "stream",
     "text": [
      "100%|██████████| 137328/137328 [00:35<00:00, 3833.46it/s]\n"
     ]
    }
   ],
   "source": [
    "S = 0\n",
    "for t in tqdm(range(n)):\n",
    "    Hyt = t_Hy_dict[t]\n",
    "    yt = t_y_dict[t]\n",
    "    Hytmu_hat0 = tf.matmul(Hyt, mu_hat0)\n",
    "    S += tf.matmul(tf.transpose(Hyt), tf.matmul(yt - Hytmu_hat0, tf.matmul(tf.transpose(yt - Hytmu_hat0), Hyt)))"
   ]
  },
  {
   "cell_type": "code",
   "execution_count": 18,
   "metadata": {
    "scrolled": true
   },
   "outputs": [
    {
     "data": {
      "text/plain": [
       "<tf.Tensor: shape=(100, 100), dtype=float32, numpy=\n",
       "array([[1.724364  , 0.        , 0.        , ..., 0.        , 0.        ,\n",
       "        0.        ],\n",
       "       [0.        , 0.94215506, 0.        , ..., 0.        , 0.        ,\n",
       "        0.        ],\n",
       "       [0.        , 0.        , 1.4365153 , ..., 0.        , 0.        ,\n",
       "        0.        ],\n",
       "       ...,\n",
       "       [0.        , 0.        , 0.        , ..., 1.1832098 , 0.        ,\n",
       "        0.        ],\n",
       "       [0.        , 0.        , 0.        , ..., 0.        , 1.0349715 ,\n",
       "        0.        ],\n",
       "       [0.        , 0.        , 0.        , ..., 0.        , 0.        ,\n",
       "        1.2620207 ]], dtype=float32)>"
      ]
     },
     "execution_count": 18,
     "metadata": {},
     "output_type": "execute_result"
    }
   ],
   "source": [
    "# diag_S is the diagonal matrix consisting of the diagonal elements of S\n",
    "diag_S = tf.linalg.diag(tf.linalg.tensor_diag_part(S))\n",
    "R_hat0_2 = tf.matmul(tf.linalg.inv(N), diag_S)\n",
    "R_hat0_2"
   ]
  },
  {
   "cell_type": "code",
   "execution_count": 19,
   "metadata": {},
   "outputs": [
    {
     "data": {
      "text/plain": [
       "<tf.Tensor: shape=(100, 100), dtype=float32, numpy=\n",
       "array([[ 1.        ,  0.07418475, -0.01158332, ..., -0.01462824,\n",
       "        -0.02215266, -0.01845053],\n",
       "       [ 0.07418474,  1.        ,  0.03674483, ...,  0.02561698,\n",
       "         0.03563043,  0.03926768],\n",
       "       [-0.01158332,  0.03674483,  0.9999999 , ...,  0.10954399,\n",
       "         0.12823027,  0.1556249 ],\n",
       "       ...,\n",
       "       [-0.01462824,  0.02561698,  0.10954399, ...,  1.        ,\n",
       "         0.19780062,  0.15164362],\n",
       "       [-0.02215266,  0.03563043,  0.12823027, ...,  0.19780062,\n",
       "         1.0000001 ,  0.18997027],\n",
       "       [-0.01845053,  0.03926769,  0.1556249 , ...,  0.15164363,\n",
       "         0.18997027,  1.        ]], dtype=float32)>"
      ]
     },
     "execution_count": 19,
     "metadata": {},
     "output_type": "execute_result"
    }
   ],
   "source": [
    "# R_hat0_3 is not a good initializer when rating variances are far from one\n",
    "R_hat0_3 = tf.matmul(tf.linalg.sqrtm(tf.linalg.inv(diag_S)), tf.matmul(S, tf.linalg.sqrtm(tf.linalg.inv(diag_S))))\n",
    "R_hat0_3"
   ]
  },
  {
   "cell_type": "code",
   "execution_count": 20,
   "metadata": {
    "scrolled": true
   },
   "outputs": [
    {
     "data": {
      "text/plain": [
       "<tf.Tensor: shape=(100, 100), dtype=float32, numpy=\n",
       "array([[ 1.724364  ,  0.09455624, -0.01823068, ..., -0.02089477,\n",
       "        -0.02959407, -0.02721801],\n",
       "       [ 0.09455624,  0.94215494,  0.04274768, ...,  0.02704705,\n",
       "         0.03518409,  0.04281832],\n",
       "       [-0.01823068,  0.04274768,  1.4365153 , ...,  0.14281526,\n",
       "         0.15635432,  0.20954023],\n",
       "       ...,\n",
       "       [-0.02089477,  0.02704705,  0.14281526, ...,  1.1832099 ,\n",
       "         0.21888836,  0.18530548],\n",
       "       [-0.02959406,  0.03518409,  0.15635432, ...,  0.21888837,\n",
       "         1.0349715 ,  0.2171116 ],\n",
       "       [-0.02721802,  0.04281832,  0.20954023, ...,  0.18530548,\n",
       "         0.2171116 ,  1.2620206 ]], dtype=float32)>"
      ]
     },
     "execution_count": 20,
     "metadata": {},
     "output_type": "execute_result"
    }
   ],
   "source": [
    "R_hat0_4 = tf.matmul(tf.linalg.sqrtm(tf.linalg.inv(N)), tf.matmul(S, tf.linalg.sqrtm(tf.linalg.inv(N))))\n",
    "R_hat0_4"
   ]
  },
  {
   "cell_type": "markdown",
   "metadata": {},
   "source": [
    "## Expectation Maximization Algorithm"
   ]
  },
  {
   "cell_type": "code",
   "execution_count": 38,
   "metadata": {},
   "outputs": [],
   "source": [
    "def expectation_maximization(mu, R):\n",
    "    Hyt_trans_Ryt_inv_Hyt_sum = 0\n",
    "    Hyt_trans_Ryt_inv_yt_sum = 0\n",
    "    R_hat_sum = 0\n",
    "    log_p_hat = 0\n",
    "\n",
    "    for t in tqdm(range(n)):\n",
    "        y_t = t_y_dict[t]\n",
    "        H_xt = t_Hx_dict[t]\n",
    "        H_xt_trans = t_Hx_trans_dict[t]\n",
    "        H_yt = t_Hy_dict[t]\n",
    "        H_yt_trans = t_Hy_trans_dict[t]\n",
    "        \n",
    "        # for R estimation\n",
    "        R_xt = H_xt @ R @ H_xt_trans\n",
    "        R_yt = H_yt @ R @ H_yt_trans\n",
    "        R_yt_det = tf.linalg.det(R_yt)\n",
    "        R_yt_inv = tf.linalg.inv(R_yt)\n",
    "        R_xtyt = H_xt @ R @ H_yt_trans\n",
    "        \n",
    "        mu_yt = tf.matmul(H_yt, mu)\n",
    "        mu_xt = tf.matmul(H_xt, mu)\n",
    "\n",
    "        X_t_hat = R_xtyt @ R_yt_inv @ (y_t - mu_yt) + mu_xt\n",
    "        Z_t_hat = H_yt_trans @ y_t + H_xt_trans @ X_t_hat\n",
    "        \n",
    "        R_hat_sum += (Z_t_hat - mu) @ tf.transpose(Z_t_hat - mu) \\\n",
    "                        + H_xt_trans @ (R_xt - R_xtyt @ R_yt_inv @ tf.transpose(R_xtyt)) @ H_xt\n",
    "\n",
    "        # for mu estimation\n",
    "        Hyt_trans_Ryt_inv_Hyt_sum += H_yt_trans @ R_yt_inv @ H_yt\n",
    "        Hyt_trans_Ryt_inv_yt_sum += H_yt_trans @ R_yt_inv @ y_t\n",
    "        \n",
    "        log_p_hat += -1/2*(tf.math.log(R_yt_det) + tf.transpose(y_t - mu_yt) @ R_yt_inv @ (y_t - mu_yt) + k*tf.math.log(2*np.pi))\n",
    "\n",
    "\n",
    "    R_hat = R_hat_sum / n\n",
    "    mu_hat = tf.matmul(tf.linalg.inv(Hyt_trans_Ryt_inv_Hyt_sum), Hyt_trans_Ryt_inv_yt_sum)    \n",
    "    return mu_hat, R_hat, log_p_hat"
   ]
  },
  {
   "cell_type": "code",
   "execution_count": 22,
   "metadata": {
    "scrolled": false
   },
   "outputs": [
    {
     "name": "stderr",
     "output_type": "stream",
     "text": [
      "  0%|          | 151/137328 [00:00<03:10, 721.37it/s]"
     ]
    },
    {
     "name": "stdout",
     "output_type": "stream",
     "text": [
      "iteration: 0\n"
     ]
    },
    {
     "name": "stderr",
     "output_type": "stream",
     "text": [
      "100%|██████████| 137328/137328 [02:39<00:00, 861.35it/s]\n",
      "  0%|          | 69/137328 [00:00<03:19, 687.07it/s]"
     ]
    },
    {
     "name": "stdout",
     "output_type": "stream",
     "text": [
      "normalized log_p_hat: tf.Tensor([[-101.37641]], shape=(1, 1), dtype=float32)\n",
      "normalized log_p: -inf\n",
      "diff: tf.Tensor([[inf]], shape=(1, 1), dtype=float32)\n"
     ]
    },
    {
     "name": "stderr",
     "output_type": "stream",
     "text": [
      "100%|██████████| 137328/137328 [02:40<00:00, 856.31it/s]\n",
      "  0%|          | 82/137328 [00:00<02:48, 812.68it/s]"
     ]
    },
    {
     "name": "stdout",
     "output_type": "stream",
     "text": [
      "normalized log_p_hat: tf.Tensor([[-101.077896]], shape=(1, 1), dtype=float32)\n",
      "normalized log_p: tf.Tensor([[-101.37641]], shape=(1, 1), dtype=float32)\n",
      "diff: tf.Tensor([[0.29851532]], shape=(1, 1), dtype=float32)\n"
     ]
    },
    {
     "name": "stderr",
     "output_type": "stream",
     "text": [
      "100%|██████████| 137328/137328 [02:44<00:00, 835.79it/s]\n",
      "  0%|          | 76/137328 [00:00<03:01, 756.44it/s]"
     ]
    },
    {
     "name": "stdout",
     "output_type": "stream",
     "text": [
      "normalized log_p_hat: tf.Tensor([[-100.92625]], shape=(1, 1), dtype=float32)\n",
      "normalized log_p: tf.Tensor([[-101.077896]], shape=(1, 1), dtype=float32)\n",
      "diff: tf.Tensor([[0.15164948]], shape=(1, 1), dtype=float32)\n"
     ]
    },
    {
     "name": "stderr",
     "output_type": "stream",
     "text": [
      "100%|██████████| 137328/137328 [02:39<00:00, 861.66it/s]\n",
      "  0%|          | 85/137328 [00:00<02:41, 847.64it/s]"
     ]
    },
    {
     "name": "stdout",
     "output_type": "stream",
     "text": [
      "normalized log_p_hat: tf.Tensor([[-100.829994]], shape=(1, 1), dtype=float32)\n",
      "normalized log_p: tf.Tensor([[-100.92625]], shape=(1, 1), dtype=float32)\n",
      "diff: tf.Tensor([[0.09625244]], shape=(1, 1), dtype=float32)\n"
     ]
    },
    {
     "name": "stderr",
     "output_type": "stream",
     "text": [
      "100%|██████████| 137328/137328 [02:40<00:00, 855.78it/s]\n",
      "  0%|          | 72/137328 [00:00<03:12, 711.55it/s]"
     ]
    },
    {
     "name": "stdout",
     "output_type": "stream",
     "text": [
      "normalized log_p_hat: tf.Tensor([[-100.764435]], shape=(1, 1), dtype=float32)\n",
      "normalized log_p: tf.Tensor([[-100.829994]], shape=(1, 1), dtype=float32)\n",
      "diff: tf.Tensor([[0.06555939]], shape=(1, 1), dtype=float32)\n",
      "iteration: 5\n"
     ]
    },
    {
     "name": "stderr",
     "output_type": "stream",
     "text": [
      "100%|██████████| 137328/137328 [02:44<00:00, 833.04it/s]\n",
      "  0%|          | 66/137328 [00:00<03:28, 659.70it/s]"
     ]
    },
    {
     "name": "stdout",
     "output_type": "stream",
     "text": [
      "normalized log_p_hat: tf.Tensor([[-100.71571]], shape=(1, 1), dtype=float32)\n",
      "normalized log_p: tf.Tensor([[-100.764435]], shape=(1, 1), dtype=float32)\n",
      "diff: tf.Tensor([[0.04872131]], shape=(1, 1), dtype=float32)\n"
     ]
    },
    {
     "name": "stderr",
     "output_type": "stream",
     "text": [
      "100%|██████████| 137328/137328 [02:40<00:00, 855.17it/s]\n",
      "  0%|          | 75/137328 [00:00<03:03, 747.99it/s]"
     ]
    },
    {
     "name": "stdout",
     "output_type": "stream",
     "text": [
      "normalized log_p_hat: tf.Tensor([[-100.6801]], shape=(1, 1), dtype=float32)\n",
      "normalized log_p: tf.Tensor([[-100.71571]], shape=(1, 1), dtype=float32)\n",
      "diff: tf.Tensor([[0.03561401]], shape=(1, 1), dtype=float32)\n"
     ]
    },
    {
     "name": "stderr",
     "output_type": "stream",
     "text": [
      "100%|██████████| 137328/137328 [02:36<00:00, 880.14it/s]\n",
      "  0%|          | 74/137328 [00:00<03:06, 737.54it/s]"
     ]
    },
    {
     "name": "stdout",
     "output_type": "stream",
     "text": [
      "normalized log_p_hat: tf.Tensor([[-100.65257]], shape=(1, 1), dtype=float32)\n",
      "normalized log_p: tf.Tensor([[-100.6801]], shape=(1, 1), dtype=float32)\n",
      "diff: tf.Tensor([[0.02752686]], shape=(1, 1), dtype=float32)\n"
     ]
    },
    {
     "name": "stderr",
     "output_type": "stream",
     "text": [
      "100%|██████████| 137328/137328 [02:36<00:00, 878.78it/s]\n",
      "  0%|          | 79/137328 [00:00<02:53, 788.93it/s]"
     ]
    },
    {
     "name": "stdout",
     "output_type": "stream",
     "text": [
      "normalized log_p_hat: tf.Tensor([[-100.63232]], shape=(1, 1), dtype=float32)\n",
      "normalized log_p: tf.Tensor([[-100.65257]], shape=(1, 1), dtype=float32)\n",
      "diff: tf.Tensor([[0.02025604]], shape=(1, 1), dtype=float32)\n"
     ]
    },
    {
     "name": "stderr",
     "output_type": "stream",
     "text": [
      "100%|██████████| 137328/137328 [02:41<00:00, 851.76it/s]\n",
      "  0%|          | 87/137328 [00:00<02:38, 865.18it/s]"
     ]
    },
    {
     "name": "stdout",
     "output_type": "stream",
     "text": [
      "normalized log_p_hat: tf.Tensor([[-100.61671]], shape=(1, 1), dtype=float32)\n",
      "normalized log_p: tf.Tensor([[-100.63232]], shape=(1, 1), dtype=float32)\n",
      "diff: tf.Tensor([[0.01560974]], shape=(1, 1), dtype=float32)\n",
      "iteration: 10\n"
     ]
    },
    {
     "name": "stderr",
     "output_type": "stream",
     "text": [
      "100%|██████████| 137328/137328 [07:43<00:00, 296.56it/s]\n",
      "  0%|          | 4/137328 [00:00<1:14:19, 30.80it/s]"
     ]
    },
    {
     "name": "stdout",
     "output_type": "stream",
     "text": [
      "normalized log_p_hat: tf.Tensor([[-100.60389]], shape=(1, 1), dtype=float32)\n",
      "normalized log_p: tf.Tensor([[-100.61671]], shape=(1, 1), dtype=float32)\n",
      "diff: tf.Tensor([[0.01281738]], shape=(1, 1), dtype=float32)\n"
     ]
    },
    {
     "name": "stderr",
     "output_type": "stream",
     "text": [
      "100%|██████████| 137328/137328 [04:14<00:00, 540.08it/s]\n",
      "  0%|          | 88/137328 [00:00<02:37, 872.38it/s]"
     ]
    },
    {
     "name": "stdout",
     "output_type": "stream",
     "text": [
      "normalized log_p_hat: tf.Tensor([[-100.59409]], shape=(1, 1), dtype=float32)\n",
      "normalized log_p: tf.Tensor([[-100.60389]], shape=(1, 1), dtype=float32)\n",
      "diff: tf.Tensor([[0.00979614]], shape=(1, 1), dtype=float32)\n"
     ]
    },
    {
     "name": "stderr",
     "output_type": "stream",
     "text": [
      "100%|██████████| 137328/137328 [02:33<00:00, 896.05it/s]\n",
      "  0%|          | 88/137328 [00:00<02:37, 871.34it/s]"
     ]
    },
    {
     "name": "stdout",
     "output_type": "stream",
     "text": [
      "normalized log_p_hat: tf.Tensor([[-100.586395]], shape=(1, 1), dtype=float32)\n",
      "normalized log_p: tf.Tensor([[-100.59409]], shape=(1, 1), dtype=float32)\n",
      "diff: tf.Tensor([[0.00769806]], shape=(1, 1), dtype=float32)\n"
     ]
    },
    {
     "name": "stderr",
     "output_type": "stream",
     "text": [
      "100%|██████████| 137328/137328 [02:38<00:00, 864.37it/s]\n",
      "  0%|          | 86/137328 [00:00<02:40, 852.75it/s]"
     ]
    },
    {
     "name": "stdout",
     "output_type": "stream",
     "text": [
      "normalized log_p_hat: tf.Tensor([[-100.58055]], shape=(1, 1), dtype=float32)\n",
      "normalized log_p: tf.Tensor([[-100.586395]], shape=(1, 1), dtype=float32)\n",
      "diff: tf.Tensor([[0.00584412]], shape=(1, 1), dtype=float32)\n"
     ]
    },
    {
     "name": "stderr",
     "output_type": "stream",
     "text": [
      "100%|██████████| 137328/137328 [02:35<00:00, 880.55it/s]\n",
      "  0%|          | 88/137328 [00:00<02:36, 875.08it/s]"
     ]
    },
    {
     "name": "stdout",
     "output_type": "stream",
     "text": [
      "normalized log_p_hat: tf.Tensor([[-100.57594]], shape=(1, 1), dtype=float32)\n",
      "normalized log_p: tf.Tensor([[-100.58055]], shape=(1, 1), dtype=float32)\n",
      "diff: tf.Tensor([[0.00460815]], shape=(1, 1), dtype=float32)\n",
      "iteration: 15\n"
     ]
    },
    {
     "name": "stderr",
     "output_type": "stream",
     "text": [
      "100%|██████████| 137328/137328 [02:41<00:00, 849.29it/s]\n",
      "  0%|          | 78/137328 [00:00<02:56, 777.54it/s]"
     ]
    },
    {
     "name": "stdout",
     "output_type": "stream",
     "text": [
      "normalized log_p_hat: tf.Tensor([[-100.57171]], shape=(1, 1), dtype=float32)\n",
      "normalized log_p: tf.Tensor([[-100.57594]], shape=(1, 1), dtype=float32)\n",
      "diff: tf.Tensor([[0.00423431]], shape=(1, 1), dtype=float32)\n"
     ]
    },
    {
     "name": "stderr",
     "output_type": "stream",
     "text": [
      "100%|██████████| 137328/137328 [02:39<00:00, 861.20it/s]\n",
      "  0%|          | 80/137328 [00:00<02:53, 792.21it/s]"
     ]
    },
    {
     "name": "stdout",
     "output_type": "stream",
     "text": [
      "normalized log_p_hat: tf.Tensor([[-100.568184]], shape=(1, 1), dtype=float32)\n",
      "normalized log_p: tf.Tensor([[-100.57171]], shape=(1, 1), dtype=float32)\n",
      "diff: tf.Tensor([[0.00352478]], shape=(1, 1), dtype=float32)\n"
     ]
    },
    {
     "name": "stderr",
     "output_type": "stream",
     "text": [
      "100%|██████████| 137328/137328 [02:37<00:00, 869.53it/s]\n",
      "  0%|          | 85/137328 [00:00<02:43, 840.98it/s]"
     ]
    },
    {
     "name": "stdout",
     "output_type": "stream",
     "text": [
      "normalized log_p_hat: tf.Tensor([[-100.565346]], shape=(1, 1), dtype=float32)\n",
      "normalized log_p: tf.Tensor([[-100.568184]], shape=(1, 1), dtype=float32)\n",
      "diff: tf.Tensor([[0.00283813]], shape=(1, 1), dtype=float32)\n"
     ]
    },
    {
     "name": "stderr",
     "output_type": "stream",
     "text": [
      "100%|██████████| 137328/137328 [03:50<00:00, 594.83it/s]\n",
      "  0%|          | 68/137328 [00:00<03:22, 678.52it/s]"
     ]
    },
    {
     "name": "stdout",
     "output_type": "stream",
     "text": [
      "normalized log_p_hat: tf.Tensor([[-100.5636]], shape=(1, 1), dtype=float32)\n",
      "normalized log_p: tf.Tensor([[-100.565346]], shape=(1, 1), dtype=float32)\n",
      "diff: tf.Tensor([[0.00174713]], shape=(1, 1), dtype=float32)\n"
     ]
    },
    {
     "name": "stderr",
     "output_type": "stream",
     "text": [
      "100%|██████████| 137328/137328 [02:46<00:00, 823.63it/s]\n",
      "  0%|          | 88/137328 [00:00<02:36, 877.10it/s]"
     ]
    },
    {
     "name": "stdout",
     "output_type": "stream",
     "text": [
      "normalized log_p_hat: tf.Tensor([[-100.56209]], shape=(1, 1), dtype=float32)\n",
      "normalized log_p: tf.Tensor([[-100.5636]], shape=(1, 1), dtype=float32)\n",
      "diff: tf.Tensor([[0.00151062]], shape=(1, 1), dtype=float32)\n",
      "iteration: 20\n"
     ]
    },
    {
     "name": "stderr",
     "output_type": "stream",
     "text": [
      "100%|██████████| 137328/137328 [02:36<00:00, 878.34it/s]\n",
      "  0%|          | 85/137328 [00:00<02:41, 848.76it/s]"
     ]
    },
    {
     "name": "stdout",
     "output_type": "stream",
     "text": [
      "normalized log_p_hat: tf.Tensor([[-100.560814]], shape=(1, 1), dtype=float32)\n",
      "normalized log_p: tf.Tensor([[-100.56209]], shape=(1, 1), dtype=float32)\n",
      "diff: tf.Tensor([[0.00127411]], shape=(1, 1), dtype=float32)\n"
     ]
    },
    {
     "name": "stderr",
     "output_type": "stream",
     "text": [
      "100%|██████████| 137328/137328 [02:37<00:00, 874.64it/s]\n",
      "  0%|          | 89/137328 [00:00<02:34, 888.46it/s]"
     ]
    },
    {
     "name": "stdout",
     "output_type": "stream",
     "text": [
      "normalized log_p_hat: tf.Tensor([[-100.55973]], shape=(1, 1), dtype=float32)\n",
      "normalized log_p: tf.Tensor([[-100.560814]], shape=(1, 1), dtype=float32)\n",
      "diff: tf.Tensor([[0.00108337]], shape=(1, 1), dtype=float32)\n"
     ]
    },
    {
     "name": "stderr",
     "output_type": "stream",
     "text": [
      "100%|██████████| 137328/137328 [02:41<00:00, 848.97it/s]"
     ]
    },
    {
     "name": "stdout",
     "output_type": "stream",
     "text": [
      "normalized log_p_hat: tf.Tensor([[-100.559326]], shape=(1, 1), dtype=float32)\n",
      "normalized log_p: tf.Tensor([[-100.55973]], shape=(1, 1), dtype=float32)\n",
      "diff: tf.Tensor([[0.00040436]], shape=(1, 1), dtype=float32)\n"
     ]
    },
    {
     "name": "stderr",
     "output_type": "stream",
     "text": [
      "\n"
     ]
    }
   ],
   "source": [
    "delta = 0.0005\n",
    "mu = mu_hat0\n",
    "R = R_hat0_4\n",
    "log_p = -np.inf\n",
    "\n",
    "for i in range(30):\n",
    "    if i % 5 == 0:\n",
    "        print(f'iteration: {i}')\n",
    "    \n",
    "    mu_hat, R_hat, log_p_hat = expectation_maximization(mu, R)\n",
    "    \n",
    "    print('normalized log_p_hat:', log_p_hat/n)\n",
    "    print('normalized log_p:', log_p/n)\n",
    "    print('diff:', log_p_hat/n - log_p/n)\n",
    "    if log_p_hat/n - log_p/n < delta:\n",
    "        break\n",
    "        \n",
    "    # use new estimattions for next iteration\n",
    "    mu = mu_hat\n",
    "    R = R_hat\n",
    "    log_p = log_p_hat"
   ]
  },
  {
   "cell_type": "code",
   "execution_count": 23,
   "metadata": {},
   "outputs": [],
   "source": [
    "# 23 iterations, ~60 min\n",
    "np.save('results/em_mu.npy', mu_hat)\n",
    "np.save('results/em_R.npy', R_hat)\n",
    "np.save('results/em_log_p.npy', log_p_hat)"
   ]
  },
  {
   "cell_type": "markdown",
   "metadata": {},
   "source": [
    "## McMichael’s Algorithm"
   ]
  },
  {
   "cell_type": "code",
   "execution_count": 45,
   "metadata": {},
   "outputs": [],
   "source": [
    "def mcmichael(mu, R):\n",
    "    gamma = 0.00001\n",
    "    Hyt_trans_Ryt_inv_Hyt_sum = 0\n",
    "    Hyt_trans_Ryt_inv_yt_sum = 0\n",
    "    log_p_gradient = 0\n",
    "    log_p_hat = 0\n",
    "\n",
    "    for t in tqdm(range(n)):\n",
    "        y_t = t_y_dict[t]\n",
    "        H_yt = t_Hy_dict[t]\n",
    "        H_yt_trans = t_Hy_trans_dict[t]\n",
    "        \n",
    "        # for R estimation\n",
    "        R_yt = H_yt @ R @ H_yt_trans\n",
    "        R_yt_det = tf.linalg.det(R_yt)\n",
    "        R_yt_inv = tf.linalg.inv(R_yt)\n",
    "        mu_yt = tf.matmul(H_yt, mu)\n",
    "        \n",
    "        log_p_gradient += H_yt_trans @ (R_yt_inv - R_yt_inv @ (y_t - mu_yt) @ tf.transpose(y_t - mu_yt) @ R_yt_inv) @ H_yt\n",
    "\n",
    "        # for mu estimation\n",
    "        Hyt_trans_Ryt_inv_Hyt_sum += H_yt_trans @ R_yt_inv @ H_yt\n",
    "        Hyt_trans_Ryt_inv_yt_sum += H_yt_trans @ R_yt_inv @ y_t\n",
    "        \n",
    "        log_p_hat += -1/2*(tf.math.log(R_yt_det) + tf.transpose(y_t - mu_yt) @ R_yt_inv @ (y_t - mu_yt) + k*tf.math.log(2*np.pi))\n",
    "\n",
    "\n",
    "    R_hat = R + gamma*(R @ (-1/2*log_p_gradient) @ R)\n",
    "    mu_hat = tf.matmul(tf.linalg.inv(Hyt_trans_Ryt_inv_Hyt_sum), Hyt_trans_Ryt_inv_yt_sum)\n",
    "    return mu_hat, R_hat, log_p_hat"
   ]
  },
  {
   "cell_type": "code",
   "execution_count": 46,
   "metadata": {
    "scrolled": false
   },
   "outputs": [
    {
     "name": "stderr",
     "output_type": "stream",
     "text": [
      "  0%|          | 93/137328 [00:00<02:27, 928.00it/s]"
     ]
    },
    {
     "name": "stdout",
     "output_type": "stream",
     "text": [
      "iteration: 0\n"
     ]
    },
    {
     "name": "stderr",
     "output_type": "stream",
     "text": [
      "100%|██████████| 137328/137328 [01:51<00:00, 1236.14it/s]\n",
      "  0%|          | 90/137328 [00:00<02:33, 892.88it/s]"
     ]
    },
    {
     "name": "stdout",
     "output_type": "stream",
     "text": [
      "normalized log_p_hat: tf.Tensor([[-101.37641]], shape=(1, 1), dtype=float32)\n",
      "normalized log_p: -inf\n",
      "diff: tf.Tensor([[inf]], shape=(1, 1), dtype=float32)\n"
     ]
    },
    {
     "name": "stderr",
     "output_type": "stream",
     "text": [
      "100%|██████████| 137328/137328 [01:52<00:00, 1222.45it/s]\n",
      "  0%|          | 110/137328 [00:00<02:04, 1097.96it/s]"
     ]
    },
    {
     "name": "stdout",
     "output_type": "stream",
     "text": [
      "normalized log_p_hat: tf.Tensor([[-101.14928]], shape=(1, 1), dtype=float32)\n",
      "normalized log_p: tf.Tensor([[-101.37641]], shape=(1, 1), dtype=float32)\n",
      "diff: tf.Tensor([[0.2271347]], shape=(1, 1), dtype=float32)\n"
     ]
    },
    {
     "name": "stderr",
     "output_type": "stream",
     "text": [
      "100%|██████████| 137328/137328 [01:50<00:00, 1238.64it/s]\n",
      "  0%|          | 115/137328 [00:00<02:00, 1141.73it/s]"
     ]
    },
    {
     "name": "stdout",
     "output_type": "stream",
     "text": [
      "normalized log_p_hat: tf.Tensor([[-101.016174]], shape=(1, 1), dtype=float32)\n",
      "normalized log_p: tf.Tensor([[-101.14928]], shape=(1, 1), dtype=float32)\n",
      "diff: tf.Tensor([[0.13310242]], shape=(1, 1), dtype=float32)\n"
     ]
    },
    {
     "name": "stderr",
     "output_type": "stream",
     "text": [
      "100%|██████████| 137328/137328 [01:51<00:00, 1233.30it/s]\n",
      "  0%|          | 130/137328 [00:00<01:46, 1291.21it/s]"
     ]
    },
    {
     "name": "stdout",
     "output_type": "stream",
     "text": [
      "normalized log_p_hat: tf.Tensor([[-100.92518]], shape=(1, 1), dtype=float32)\n",
      "normalized log_p: tf.Tensor([[-101.016174]], shape=(1, 1), dtype=float32)\n",
      "diff: tf.Tensor([[0.09099579]], shape=(1, 1), dtype=float32)\n"
     ]
    },
    {
     "name": "stderr",
     "output_type": "stream",
     "text": [
      "100%|██████████| 137328/137328 [01:48<00:00, 1260.77it/s]\n",
      "  0%|          | 123/137328 [00:00<01:51, 1229.84it/s]"
     ]
    },
    {
     "name": "stdout",
     "output_type": "stream",
     "text": [
      "normalized log_p_hat: tf.Tensor([[-100.85729]], shape=(1, 1), dtype=float32)\n",
      "normalized log_p: tf.Tensor([[-100.92518]], shape=(1, 1), dtype=float32)\n",
      "diff: tf.Tensor([[0.06788635]], shape=(1, 1), dtype=float32)\n",
      "iteration: 5\n"
     ]
    },
    {
     "name": "stderr",
     "output_type": "stream",
     "text": [
      "100%|██████████| 137328/137328 [01:50<00:00, 1239.40it/s]\n",
      "  0%|          | 121/137328 [00:00<01:54, 1202.20it/s]"
     ]
    },
    {
     "name": "stdout",
     "output_type": "stream",
     "text": [
      "normalized log_p_hat: tf.Tensor([[-100.8043]], shape=(1, 1), dtype=float32)\n",
      "normalized log_p: tf.Tensor([[-100.85729]], shape=(1, 1), dtype=float32)\n",
      "diff: tf.Tensor([[0.05299377]], shape=(1, 1), dtype=float32)\n"
     ]
    },
    {
     "name": "stderr",
     "output_type": "stream",
     "text": [
      "100%|██████████| 137328/137328 [01:49<00:00, 1256.62it/s]\n",
      "  0%|          | 130/137328 [00:00<01:45, 1297.44it/s]"
     ]
    },
    {
     "name": "stdout",
     "output_type": "stream",
     "text": [
      "normalized log_p_hat: tf.Tensor([[-100.762924]], shape=(1, 1), dtype=float32)\n",
      "normalized log_p: tf.Tensor([[-100.8043]], shape=(1, 1), dtype=float32)\n",
      "diff: tf.Tensor([[0.04137421]], shape=(1, 1), dtype=float32)\n"
     ]
    },
    {
     "name": "stderr",
     "output_type": "stream",
     "text": [
      "100%|██████████| 137328/137328 [01:45<00:00, 1297.05it/s]\n",
      "  0%|          | 128/137328 [00:00<01:47, 1274.04it/s]"
     ]
    },
    {
     "name": "stdout",
     "output_type": "stream",
     "text": [
      "normalized log_p_hat: tf.Tensor([[-100.728966]], shape=(1, 1), dtype=float32)\n",
      "normalized log_p: tf.Tensor([[-100.762924]], shape=(1, 1), dtype=float32)\n",
      "diff: tf.Tensor([[0.03395844]], shape=(1, 1), dtype=float32)\n"
     ]
    },
    {
     "name": "stderr",
     "output_type": "stream",
     "text": [
      "100%|██████████| 137328/137328 [01:52<00:00, 1219.28it/s]\n",
      "  0%|          | 119/137328 [00:00<01:55, 1187.72it/s]"
     ]
    },
    {
     "name": "stdout",
     "output_type": "stream",
     "text": [
      "normalized log_p_hat: tf.Tensor([[-100.70123]], shape=(1, 1), dtype=float32)\n",
      "normalized log_p: tf.Tensor([[-100.728966]], shape=(1, 1), dtype=float32)\n",
      "diff: tf.Tensor([[0.02773285]], shape=(1, 1), dtype=float32)\n"
     ]
    },
    {
     "name": "stderr",
     "output_type": "stream",
     "text": [
      "100%|██████████| 137328/137328 [01:51<00:00, 1235.14it/s]\n",
      "  0%|          | 114/137328 [00:00<02:01, 1133.80it/s]"
     ]
    },
    {
     "name": "stdout",
     "output_type": "stream",
     "text": [
      "normalized log_p_hat: tf.Tensor([[-100.678696]], shape=(1, 1), dtype=float32)\n",
      "normalized log_p: tf.Tensor([[-100.70123]], shape=(1, 1), dtype=float32)\n",
      "diff: tf.Tensor([[0.02253723]], shape=(1, 1), dtype=float32)\n",
      "iteration: 10\n"
     ]
    },
    {
     "name": "stderr",
     "output_type": "stream",
     "text": [
      "100%|██████████| 137328/137328 [01:53<00:00, 1207.65it/s]\n",
      "  0%|          | 74/137328 [00:00<03:06, 734.48it/s]"
     ]
    },
    {
     "name": "stdout",
     "output_type": "stream",
     "text": [
      "normalized log_p_hat: tf.Tensor([[-100.66003]], shape=(1, 1), dtype=float32)\n",
      "normalized log_p: tf.Tensor([[-100.678696]], shape=(1, 1), dtype=float32)\n",
      "diff: tf.Tensor([[0.01866913]], shape=(1, 1), dtype=float32)\n"
     ]
    },
    {
     "name": "stderr",
     "output_type": "stream",
     "text": [
      "100%|██████████| 137328/137328 [01:58<00:00, 1156.70it/s]\n",
      "  0%|          | 122/137328 [00:00<01:52, 1217.57it/s]"
     ]
    },
    {
     "name": "stdout",
     "output_type": "stream",
     "text": [
      "normalized log_p_hat: tf.Tensor([[-100.644264]], shape=(1, 1), dtype=float32)\n",
      "normalized log_p: tf.Tensor([[-100.66003]], shape=(1, 1), dtype=float32)\n",
      "diff: tf.Tensor([[0.01576233]], shape=(1, 1), dtype=float32)\n"
     ]
    },
    {
     "name": "stderr",
     "output_type": "stream",
     "text": [
      "100%|██████████| 137328/137328 [01:58<00:00, 1162.75it/s]\n",
      "  0%|          | 119/137328 [00:00<01:55, 1187.27it/s]"
     ]
    },
    {
     "name": "stdout",
     "output_type": "stream",
     "text": [
      "normalized log_p_hat: tf.Tensor([[-100.631546]], shape=(1, 1), dtype=float32)\n",
      "normalized log_p: tf.Tensor([[-100.644264]], shape=(1, 1), dtype=float32)\n",
      "diff: tf.Tensor([[0.0127182]], shape=(1, 1), dtype=float32)\n"
     ]
    },
    {
     "name": "stderr",
     "output_type": "stream",
     "text": [
      "100%|██████████| 137328/137328 [01:57<00:00, 1165.30it/s]\n",
      "  0%|          | 101/137328 [00:00<02:16, 1004.33it/s]"
     ]
    },
    {
     "name": "stdout",
     "output_type": "stream",
     "text": [
      "normalized log_p_hat: tf.Tensor([[-100.62052]], shape=(1, 1), dtype=float32)\n",
      "normalized log_p: tf.Tensor([[-100.631546]], shape=(1, 1), dtype=float32)\n",
      "diff: tf.Tensor([[0.01102448]], shape=(1, 1), dtype=float32)\n"
     ]
    },
    {
     "name": "stderr",
     "output_type": "stream",
     "text": [
      "100%|██████████| 137328/137328 [01:57<00:00, 1170.81it/s]\n",
      "  0%|          | 120/137328 [00:00<01:54, 1199.47it/s]"
     ]
    },
    {
     "name": "stdout",
     "output_type": "stream",
     "text": [
      "normalized log_p_hat: tf.Tensor([[-100.61122]], shape=(1, 1), dtype=float32)\n",
      "normalized log_p: tf.Tensor([[-100.62052]], shape=(1, 1), dtype=float32)\n",
      "diff: tf.Tensor([[0.00930023]], shape=(1, 1), dtype=float32)\n",
      "iteration: 15\n"
     ]
    },
    {
     "name": "stderr",
     "output_type": "stream",
     "text": [
      "100%|██████████| 137328/137328 [02:05<00:00, 1090.33it/s]\n",
      "  0%|          | 120/137328 [00:00<01:54, 1193.60it/s]"
     ]
    },
    {
     "name": "stdout",
     "output_type": "stream",
     "text": [
      "normalized log_p_hat: tf.Tensor([[-100.60307]], shape=(1, 1), dtype=float32)\n",
      "normalized log_p: tf.Tensor([[-100.61122]], shape=(1, 1), dtype=float32)\n",
      "diff: tf.Tensor([[0.00814819]], shape=(1, 1), dtype=float32)\n"
     ]
    },
    {
     "name": "stderr",
     "output_type": "stream",
     "text": [
      "100%|██████████| 137328/137328 [01:51<00:00, 1236.50it/s]\n",
      "  0%|          | 107/137328 [00:00<02:08, 1067.08it/s]"
     ]
    },
    {
     "name": "stdout",
     "output_type": "stream",
     "text": [
      "normalized log_p_hat: tf.Tensor([[-100.596146]], shape=(1, 1), dtype=float32)\n",
      "normalized log_p: tf.Tensor([[-100.60307]], shape=(1, 1), dtype=float32)\n",
      "diff: tf.Tensor([[0.00692749]], shape=(1, 1), dtype=float32)\n"
     ]
    },
    {
     "name": "stderr",
     "output_type": "stream",
     "text": [
      "100%|██████████| 137328/137328 [01:50<00:00, 1241.07it/s]\n",
      "  0%|          | 246/137328 [00:00<01:51, 1224.09it/s]"
     ]
    },
    {
     "name": "stdout",
     "output_type": "stream",
     "text": [
      "normalized log_p_hat: tf.Tensor([[-100.5906]], shape=(1, 1), dtype=float32)\n",
      "normalized log_p: tf.Tensor([[-100.596146]], shape=(1, 1), dtype=float32)\n",
      "diff: tf.Tensor([[0.00554657]], shape=(1, 1), dtype=float32)\n"
     ]
    },
    {
     "name": "stderr",
     "output_type": "stream",
     "text": [
      "100%|██████████| 137328/137328 [01:52<00:00, 1218.76it/s]\n",
      "  0%|          | 87/137328 [00:00<02:38, 863.72it/s]"
     ]
    },
    {
     "name": "stdout",
     "output_type": "stream",
     "text": [
      "normalized log_p_hat: tf.Tensor([[-100.58587]], shape=(1, 1), dtype=float32)\n",
      "normalized log_p: tf.Tensor([[-100.5906]], shape=(1, 1), dtype=float32)\n",
      "diff: tf.Tensor([[0.00473022]], shape=(1, 1), dtype=float32)\n"
     ]
    },
    {
     "name": "stderr",
     "output_type": "stream",
     "text": [
      "100%|██████████| 137328/137328 [01:55<00:00, 1191.83it/s]\n",
      "  0%|          | 116/137328 [00:00<01:58, 1155.66it/s]"
     ]
    },
    {
     "name": "stdout",
     "output_type": "stream",
     "text": [
      "normalized log_p_hat: tf.Tensor([[-100.58169]], shape=(1, 1), dtype=float32)\n",
      "normalized log_p: tf.Tensor([[-100.58587]], shape=(1, 1), dtype=float32)\n",
      "diff: tf.Tensor([[0.00418091]], shape=(1, 1), dtype=float32)\n",
      "iteration: 20\n"
     ]
    },
    {
     "name": "stderr",
     "output_type": "stream",
     "text": [
      "100%|██████████| 137328/137328 [01:55<00:00, 1185.15it/s]\n",
      "  0%|          | 120/137328 [00:00<01:54, 1196.75it/s]"
     ]
    },
    {
     "name": "stdout",
     "output_type": "stream",
     "text": [
      "normalized log_p_hat: tf.Tensor([[-100.57851]], shape=(1, 1), dtype=float32)\n",
      "normalized log_p: tf.Tensor([[-100.58169]], shape=(1, 1), dtype=float32)\n",
      "diff: tf.Tensor([[0.00318146]], shape=(1, 1), dtype=float32)\n"
     ]
    },
    {
     "name": "stderr",
     "output_type": "stream",
     "text": [
      "100%|██████████| 137328/137328 [01:58<00:00, 1160.71it/s]\n",
      "  0%|          | 115/137328 [00:00<02:00, 1142.84it/s]"
     ]
    },
    {
     "name": "stdout",
     "output_type": "stream",
     "text": [
      "normalized log_p_hat: tf.Tensor([[-100.575134]], shape=(1, 1), dtype=float32)\n",
      "normalized log_p: tf.Tensor([[-100.57851]], shape=(1, 1), dtype=float32)\n",
      "diff: tf.Tensor([[0.00337219]], shape=(1, 1), dtype=float32)\n"
     ]
    },
    {
     "name": "stderr",
     "output_type": "stream",
     "text": [
      "100%|██████████| 137328/137328 [01:50<00:00, 1244.11it/s]\n",
      "  0%|          | 118/137328 [00:00<01:56, 1173.99it/s]"
     ]
    },
    {
     "name": "stdout",
     "output_type": "stream",
     "text": [
      "normalized log_p_hat: tf.Tensor([[-100.5723]], shape=(1, 1), dtype=float32)\n",
      "normalized log_p: tf.Tensor([[-100.575134]], shape=(1, 1), dtype=float32)\n",
      "diff: tf.Tensor([[0.00283051]], shape=(1, 1), dtype=float32)\n"
     ]
    },
    {
     "name": "stderr",
     "output_type": "stream",
     "text": [
      "100%|██████████| 137328/137328 [01:57<00:00, 1173.24it/s]\n",
      "  0%|          | 123/137328 [00:00<01:51, 1228.01it/s]"
     ]
    },
    {
     "name": "stdout",
     "output_type": "stream",
     "text": [
      "normalized log_p_hat: tf.Tensor([[-100.56988]], shape=(1, 1), dtype=float32)\n",
      "normalized log_p: tf.Tensor([[-100.5723]], shape=(1, 1), dtype=float32)\n",
      "diff: tf.Tensor([[0.00242615]], shape=(1, 1), dtype=float32)\n"
     ]
    },
    {
     "name": "stderr",
     "output_type": "stream",
     "text": [
      "100%|██████████| 137328/137328 [01:53<00:00, 1210.18it/s]\n",
      "  0%|          | 115/137328 [00:00<01:59, 1144.43it/s]"
     ]
    },
    {
     "name": "stdout",
     "output_type": "stream",
     "text": [
      "normalized log_p_hat: tf.Tensor([[-100.567635]], shape=(1, 1), dtype=float32)\n",
      "normalized log_p: tf.Tensor([[-100.56988]], shape=(1, 1), dtype=float32)\n",
      "diff: tf.Tensor([[0.00224304]], shape=(1, 1), dtype=float32)\n",
      "iteration: 25\n"
     ]
    },
    {
     "name": "stderr",
     "output_type": "stream",
     "text": [
      "100%|██████████| 137328/137328 [01:53<00:00, 1205.38it/s]\n",
      "  0%|          | 123/137328 [00:00<01:52, 1221.61it/s]"
     ]
    },
    {
     "name": "stdout",
     "output_type": "stream",
     "text": [
      "normalized log_p_hat: tf.Tensor([[-100.56577]], shape=(1, 1), dtype=float32)\n",
      "normalized log_p: tf.Tensor([[-100.567635]], shape=(1, 1), dtype=float32)\n",
      "diff: tf.Tensor([[0.00186157]], shape=(1, 1), dtype=float32)\n"
     ]
    },
    {
     "name": "stderr",
     "output_type": "stream",
     "text": [
      "100%|██████████| 137328/137328 [01:58<00:00, 1156.72it/s]\n",
      "  0%|          | 112/137328 [00:00<02:02, 1118.17it/s]"
     ]
    },
    {
     "name": "stdout",
     "output_type": "stream",
     "text": [
      "normalized log_p_hat: tf.Tensor([[-100.564575]], shape=(1, 1), dtype=float32)\n",
      "normalized log_p: tf.Tensor([[-100.56577]], shape=(1, 1), dtype=float32)\n",
      "diff: tf.Tensor([[0.00119781]], shape=(1, 1), dtype=float32)\n"
     ]
    },
    {
     "name": "stderr",
     "output_type": "stream",
     "text": [
      "100%|██████████| 137328/137328 [01:58<00:00, 1156.52it/s]\n",
      "  0%|          | 102/137328 [00:00<02:14, 1019.12it/s]"
     ]
    },
    {
     "name": "stdout",
     "output_type": "stream",
     "text": [
      "normalized log_p_hat: tf.Tensor([[-100.56337]], shape=(1, 1), dtype=float32)\n",
      "normalized log_p: tf.Tensor([[-100.564575]], shape=(1, 1), dtype=float32)\n",
      "diff: tf.Tensor([[0.00120544]], shape=(1, 1), dtype=float32)\n"
     ]
    },
    {
     "name": "stderr",
     "output_type": "stream",
     "text": [
      "100%|██████████| 137328/137328 [02:06<00:00, 1082.46it/s]\n",
      "  0%|          | 108/137328 [00:00<02:07, 1078.04it/s]"
     ]
    },
    {
     "name": "stdout",
     "output_type": "stream",
     "text": [
      "normalized log_p_hat: tf.Tensor([[-100.56224]], shape=(1, 1), dtype=float32)\n",
      "normalized log_p: tf.Tensor([[-100.56337]], shape=(1, 1), dtype=float32)\n",
      "diff: tf.Tensor([[0.00112915]], shape=(1, 1), dtype=float32)\n"
     ]
    },
    {
     "name": "stderr",
     "output_type": "stream",
     "text": [
      "100%|██████████| 137328/137328 [01:54<00:00, 1202.96it/s]\n",
      "  0%|          | 113/137328 [00:00<02:01, 1127.01it/s]"
     ]
    },
    {
     "name": "stdout",
     "output_type": "stream",
     "text": [
      "normalized log_p_hat: tf.Tensor([[-100.5613]], shape=(1, 1), dtype=float32)\n",
      "normalized log_p: tf.Tensor([[-100.56224]], shape=(1, 1), dtype=float32)\n",
      "diff: tf.Tensor([[0.00093842]], shape=(1, 1), dtype=float32)\n",
      "iteration: 30\n"
     ]
    },
    {
     "name": "stderr",
     "output_type": "stream",
     "text": [
      "100%|██████████| 137328/137328 [01:59<00:00, 1146.16it/s]\n",
      "  0%|          | 103/137328 [00:00<02:13, 1029.39it/s]"
     ]
    },
    {
     "name": "stdout",
     "output_type": "stream",
     "text": [
      "normalized log_p_hat: tf.Tensor([[-100.560684]], shape=(1, 1), dtype=float32)\n",
      "normalized log_p: tf.Tensor([[-100.5613]], shape=(1, 1), dtype=float32)\n",
      "diff: tf.Tensor([[0.00061798]], shape=(1, 1), dtype=float32)\n"
     ]
    },
    {
     "name": "stderr",
     "output_type": "stream",
     "text": [
      "100%|██████████| 137328/137328 [01:58<00:00, 1154.40it/s]\n",
      "  0%|          | 101/137328 [00:00<02:16, 1007.87it/s]"
     ]
    },
    {
     "name": "stdout",
     "output_type": "stream",
     "text": [
      "normalized log_p_hat: tf.Tensor([[-100.559944]], shape=(1, 1), dtype=float32)\n",
      "normalized log_p: tf.Tensor([[-100.560684]], shape=(1, 1), dtype=float32)\n",
      "diff: tf.Tensor([[0.00074005]], shape=(1, 1), dtype=float32)\n"
     ]
    },
    {
     "name": "stderr",
     "output_type": "stream",
     "text": [
      "100%|██████████| 137328/137328 [02:06<00:00, 1082.43it/s]"
     ]
    },
    {
     "name": "stdout",
     "output_type": "stream",
     "text": [
      "normalized log_p_hat: tf.Tensor([[-100.55947]], shape=(1, 1), dtype=float32)\n",
      "normalized log_p: tf.Tensor([[-100.559944]], shape=(1, 1), dtype=float32)\n",
      "diff: tf.Tensor([[0.00047302]], shape=(1, 1), dtype=float32)\n"
     ]
    },
    {
     "name": "stderr",
     "output_type": "stream",
     "text": [
      "\n"
     ]
    }
   ],
   "source": [
    "delta = 0.0005\n",
    "mu = mu_hat0\n",
    "R = R_hat0_4\n",
    "log_p = -np.inf\n",
    "\n",
    "for i in range(45):\n",
    "    if i % 5 == 0:\n",
    "        print(f'iteration: {i}')\n",
    "    \n",
    "    mu_hat, R_hat, log_p_hat = mcmichael(mu, R)\n",
    "    \n",
    "    print('normalized log_p_hat:', log_p_hat/n)\n",
    "    print('normalized log_p:', log_p/n)\n",
    "    print('diff:', log_p_hat/n - log_p/n)\n",
    "    if log_p_hat/n - log_p/n < delta:\n",
    "        break\n",
    "        \n",
    "    # use new estimattions for next iteration\n",
    "    mu = mu_hat\n",
    "    R = R_hat\n",
    "    log_p = log_p_hat"
   ]
  },
  {
   "cell_type": "code",
   "execution_count": 47,
   "metadata": {},
   "outputs": [],
   "source": [
    "# 33 iterations, ~60 min\n",
    "np.save('results/mcmichael_mu.npy', mu_hat)\n",
    "np.save('results/mcmichael_R.npy', R_hat)\n",
    "np.save('results/mcmichael_log_p.npy', log_p_hat)"
   ]
  },
  {
   "cell_type": "markdown",
   "metadata": {},
   "source": [
    "## Evaluation"
   ]
  },
  {
   "cell_type": "code",
   "execution_count": 48,
   "metadata": {},
   "outputs": [],
   "source": [
    "def evaluate(mu, R):\n",
    "    square_error = 0\n",
    "    l = 0\n",
    "    for t in tqdm(range(n)):\n",
    "        movie_ids_t = t_movie_ids_labels_dict[t]\n",
    "        labels_t = t_labels_dict[t]\n",
    "\n",
    "        # calculate X_t_hat\n",
    "        y_t = t_y_dict[t]\n",
    "        H_xt = t_Hx_dict[t]\n",
    "        H_xt_trans = t_Hx_trans_dict[t]\n",
    "        H_yt = t_Hy_dict[t]\n",
    "        H_yt_trans = t_Hy_trans_dict[t]\n",
    "        \n",
    "        R_xt = H_xt @ R @ H_xt_trans\n",
    "        R_yt = H_yt @ R @ H_yt_trans\n",
    "        R_yt_inv = tf.linalg.inv(R_yt)\n",
    "        R_xtyt = H_xt @ R @ H_yt_trans\n",
    "        \n",
    "        mu_yt = tf.matmul(H_yt, mu)\n",
    "        mu_xt = tf.matmul(H_xt, mu)\n",
    "\n",
    "        X_t_hat = R_xtyt @ R_yt_inv @ (y_t - mu_yt) + mu_xt\n",
    "        \n",
    "        # clip ratings\n",
    "        predictions_t = tf.matmul(H_xt_trans, X_t_hat).numpy()[movie_ids_t-1]\n",
    "        predictions_t[predictions_t > 5] = 5\n",
    "        predictions_t[predictions_t < 1] = 1\n",
    "        \n",
    "        # accumulate square_error and l\n",
    "        square_error += tf.matmul(tf.transpose(labels_t - predictions_t), labels_t - predictions_t)\n",
    "        l += len(labels_t)\n",
    "    return np.sqrt(square_error/l)"
   ]
  },
  {
   "cell_type": "code",
   "execution_count": 30,
   "metadata": {
    "scrolled": true
   },
   "outputs": [
    {
     "name": "stderr",
     "output_type": "stream",
     "text": [
      "100%|██████████| 137328/137328 [01:24<00:00, 1625.56it/s]\n"
     ]
    },
    {
     "data": {
      "text/plain": [
       "array([[1.07513507]])"
      ]
     },
     "execution_count": 30,
     "metadata": {},
     "output_type": "execute_result"
    }
   ],
   "source": [
    "em_mu = np.load('results/em_mu.npy')\n",
    "em_R = np.load('results/em_R.npy')\n",
    "rmse = evaluate(em_mu, em_R)\n",
    "rmse"
   ]
  },
  {
   "cell_type": "code",
   "execution_count": 49,
   "metadata": {},
   "outputs": [
    {
     "name": "stderr",
     "output_type": "stream",
     "text": [
      "100%|██████████| 137328/137328 [01:25<00:00, 1607.03it/s]\n"
     ]
    },
    {
     "data": {
      "text/plain": [
       "array([[1.07507133]])"
      ]
     },
     "execution_count": 49,
     "metadata": {},
     "output_type": "execute_result"
    }
   ],
   "source": [
    "mcmichael_mu = np.load('results/mcmichael_mu.npy')\n",
    "mcmichael_R = np.load('results/mcmichael_R.npy')\n",
    "rmse = evaluate(mcmichael_mu, mcmichael_R)\n",
    "rmse"
   ]
  },
  {
   "cell_type": "code",
   "execution_count": null,
   "metadata": {},
   "outputs": [],
   "source": []
  }
 ],
 "metadata": {
  "kernelspec": {
   "display_name": "Python 3",
   "language": "python",
   "name": "python3"
  },
  "language_info": {
   "codemirror_mode": {
    "name": "ipython",
    "version": 3
   },
   "file_extension": ".py",
   "mimetype": "text/x-python",
   "name": "python",
   "nbconvert_exporter": "python",
   "pygments_lexer": "ipython3",
   "version": "3.7.7"
  }
 },
 "nbformat": 4,
 "nbformat_minor": 2
}
