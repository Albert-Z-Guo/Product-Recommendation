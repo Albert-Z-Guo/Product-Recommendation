{
 "cells": [
  {
   "cell_type": "markdown",
   "metadata": {},
   "source": [
    "# Product Recommendation\n",
    "Reference: https://ieeexplore.ieee.org/document/5430993"
   ]
  },
  {
   "cell_type": "code",
   "execution_count": 1,
   "metadata": {},
   "outputs": [],
   "source": [
    "import numexpr as ne\n",
    "import numpy as np\n",
    "import pandas as pd\n",
    "import tensorflow as tf\n",
    "from tqdm import tqdm"
   ]
  },
  {
   "cell_type": "code",
   "execution_count": 2,
   "metadata": {},
   "outputs": [
    {
     "data": {
      "text/plain": [
       "'2.3.1'"
      ]
     },
     "execution_count": 2,
     "metadata": {},
     "output_type": "execute_result"
    }
   ],
   "source": [
    "tf.__version__"
   ]
  },
  {
   "cell_type": "markdown",
   "metadata": {},
   "source": [
    "## Data Preprocessing"
   ]
  },
  {
   "cell_type": "code",
   "execution_count": 3,
   "metadata": {},
   "outputs": [],
   "source": [
    "Y_data = pd.read_csv('data/Y.csv', header=None, names=['Rating','Movie','User'], dtype=np.int32) # training data\n",
    "P_data = pd.read_csv('data/P.csv', header=None, names=['Rating','Movie','User'], dtype=np.int32) # test data ('probe-set' mentioned in paper)"
   ]
  },
  {
   "cell_type": "code",
   "execution_count": 4,
   "metadata": {},
   "outputs": [
    {
     "data": {
      "text/html": [
       "<div>\n",
       "<style scoped>\n",
       "    .dataframe tbody tr th:only-of-type {\n",
       "        vertical-align: middle;\n",
       "    }\n",
       "\n",
       "    .dataframe tbody tr th {\n",
       "        vertical-align: top;\n",
       "    }\n",
       "\n",
       "    .dataframe thead th {\n",
       "        text-align: right;\n",
       "    }\n",
       "</style>\n",
       "<table border=\"1\" class=\"dataframe\">\n",
       "  <thead>\n",
       "    <tr style=\"text-align: right;\">\n",
       "      <th></th>\n",
       "      <th>Rating</th>\n",
       "      <th>Movie</th>\n",
       "      <th>User</th>\n",
       "    </tr>\n",
       "  </thead>\n",
       "  <tbody>\n",
       "    <tr>\n",
       "      <th>0</th>\n",
       "      <td>5</td>\n",
       "      <td>2</td>\n",
       "      <td>1</td>\n",
       "    </tr>\n",
       "    <tr>\n",
       "      <th>1</th>\n",
       "      <td>4</td>\n",
       "      <td>7</td>\n",
       "      <td>1</td>\n",
       "    </tr>\n",
       "    <tr>\n",
       "      <th>2</th>\n",
       "      <td>4</td>\n",
       "      <td>8</td>\n",
       "      <td>1</td>\n",
       "    </tr>\n",
       "    <tr>\n",
       "      <th>3</th>\n",
       "      <td>4</td>\n",
       "      <td>11</td>\n",
       "      <td>1</td>\n",
       "    </tr>\n",
       "    <tr>\n",
       "      <th>4</th>\n",
       "      <td>4</td>\n",
       "      <td>12</td>\n",
       "      <td>1</td>\n",
       "    </tr>\n",
       "  </tbody>\n",
       "</table>\n",
       "</div>"
      ],
      "text/plain": [
       "   Rating  Movie  User\n",
       "0       5      2     1\n",
       "1       4      7     1\n",
       "2       4      8     1\n",
       "3       4     11     1\n",
       "4       4     12     1"
      ]
     },
     "metadata": {},
     "output_type": "display_data"
    },
    {
     "data": {
      "text/html": [
       "<div>\n",
       "<style scoped>\n",
       "    .dataframe tbody tr th:only-of-type {\n",
       "        vertical-align: middle;\n",
       "    }\n",
       "\n",
       "    .dataframe tbody tr th {\n",
       "        vertical-align: top;\n",
       "    }\n",
       "\n",
       "    .dataframe thead th {\n",
       "        text-align: right;\n",
       "    }\n",
       "</style>\n",
       "<table border=\"1\" class=\"dataframe\">\n",
       "  <thead>\n",
       "    <tr style=\"text-align: right;\">\n",
       "      <th></th>\n",
       "      <th>Rating</th>\n",
       "      <th>Movie</th>\n",
       "      <th>User</th>\n",
       "    </tr>\n",
       "  </thead>\n",
       "  <tbody>\n",
       "    <tr>\n",
       "      <th>0</th>\n",
       "      <td>3</td>\n",
       "      <td>6</td>\n",
       "      <td>1</td>\n",
       "    </tr>\n",
       "    <tr>\n",
       "      <th>1</th>\n",
       "      <td>5</td>\n",
       "      <td>96</td>\n",
       "      <td>1</td>\n",
       "    </tr>\n",
       "    <tr>\n",
       "      <th>2</th>\n",
       "      <td>3</td>\n",
       "      <td>1</td>\n",
       "      <td>2</td>\n",
       "    </tr>\n",
       "    <tr>\n",
       "      <th>3</th>\n",
       "      <td>3</td>\n",
       "      <td>33</td>\n",
       "      <td>3</td>\n",
       "    </tr>\n",
       "    <tr>\n",
       "      <th>4</th>\n",
       "      <td>5</td>\n",
       "      <td>42</td>\n",
       "      <td>4</td>\n",
       "    </tr>\n",
       "  </tbody>\n",
       "</table>\n",
       "</div>"
      ],
      "text/plain": [
       "   Rating  Movie  User\n",
       "0       3      6     1\n",
       "1       5     96     1\n",
       "2       3      1     2\n",
       "3       3     33     3\n",
       "4       5     42     4"
      ]
     },
     "metadata": {},
     "output_type": "display_data"
    },
    {
     "data": {
      "text/plain": [
       "((3399874, 3), (189699, 3))"
      ]
     },
     "execution_count": 4,
     "metadata": {},
     "output_type": "execute_result"
    }
   ],
   "source": [
    "display(Y_data.head())\n",
    "display(P_data.head())\n",
    "Y_data.shape, P_data.shape"
   ]
  },
  {
   "cell_type": "code",
   "execution_count": 5,
   "metadata": {},
   "outputs": [
    {
     "name": "stdout",
     "output_type": "stream",
     "text": [
      "5 100 137328\n",
      "5 100 137328\n"
     ]
    }
   ],
   "source": [
    "print(Y_data['Rating'].unique().max(), Y_data['Movie'].unique().max(), Y_data['User'].unique().max())\n",
    "print(P_data['Rating'].unique().max(), P_data['Movie'].unique().max(), P_data['User'].unique().max())"
   ]
  },
  {
   "cell_type": "code",
   "execution_count": 6,
   "metadata": {},
   "outputs": [
    {
     "data": {
      "text/plain": [
       "(100, 137328)"
      ]
     },
     "execution_count": 6,
     "metadata": {},
     "output_type": "execute_result"
    }
   ],
   "source": [
    "k, n = Y_data['Movie'].unique().max(), Y_data['User'].unique().max()\n",
    "k, n"
   ]
  },
  {
   "cell_type": "code",
   "execution_count": 7,
   "metadata": {},
   "outputs": [],
   "source": [
    "Z_sparse = tf.SparseTensor(indices=Y_data[['Movie', 'User']].values-1, values=Y_data['Rating'].values, dense_shape=[k, n])\n",
    "Z_sparse = tf.cast(Z_sparse, tf.float64)"
   ]
  },
  {
   "cell_type": "code",
   "execution_count": 8,
   "metadata": {
    "scrolled": true
   },
   "outputs": [
    {
     "data": {
      "text/plain": [
       "<tf.Tensor: shape=(100, 137328), dtype=float64, numpy=\n",
       "array([[0., 0., 0., ..., 0., 0., 0.],\n",
       "       [5., 0., 0., ..., 0., 0., 3.],\n",
       "       [0., 0., 0., ..., 3., 0., 0.],\n",
       "       ...,\n",
       "       [5., 0., 0., ..., 4., 0., 4.],\n",
       "       [4., 0., 3., ..., 0., 0., 4.],\n",
       "       [3., 4., 0., ..., 4., 5., 4.]])>"
      ]
     },
     "execution_count": 8,
     "metadata": {},
     "output_type": "execute_result"
    }
   ],
   "source": [
    "# use dense matrices for faster linear transformations since all matrices can fit in memory\n",
    "Z = tf.sparse.to_dense(Z_sparse, validate_indices=False)\n",
    "Z"
   ]
  },
  {
   "cell_type": "code",
   "execution_count": 9,
   "metadata": {},
   "outputs": [
    {
     "name": "stderr",
     "output_type": "stream",
     "text": [
      "100%|██████████| 137328/137328 [10:28<00:00, 218.59it/s]\n"
     ]
    }
   ],
   "source": [
    "Y_data_user_ids = Y_data['User'].values\n",
    "P_data_user_ids = P_data['User'].values\n",
    "\n",
    "data_preprocessed = list()\n",
    "for t in tqdm(range(n)):\n",
    "    movie_ids_indices = Y_data[ne.evaluate(f'Y_data_user_ids == {t+1}')]['Movie'].values - 1\n",
    "    H_yt = tf.constant(np.identity(k)[movie_ids_indices], dtype=tf.float64)\n",
    "    H_xt = tf.constant(np.delete(np.identity(k), movie_ids_indices, 0), dtype=tf.float64)\n",
    "    \n",
    "    k_t = tf.constant(H_yt.shape[0], dtype=tf.float64)\n",
    "    Z_t = tf.expand_dims(Z[:, t], axis=1) \n",
    "    y_t = tf.matmul(H_yt, Z_t)\n",
    "    x_t = tf.matmul(H_xt, Z_t)\n",
    "    \n",
    "    movie_ids_t = P_data[ne.evaluate(f'P_data_user_ids == {t+1}')]['Movie'].values\n",
    "    labels_t = tf.expand_dims(P_data[ne.evaluate(f'P_data_user_ids == {t+1}')]['Rating'].values, axis=1)\n",
    "    data_preprocessed.append((H_yt, H_xt, tf.transpose(H_yt), tf.transpose(H_xt), k_t, Z_t, y_t, x_t, movie_ids_t, labels_t))\n",
    "        \n",
    "del Y_data\n",
    "del P_data\n",
    "del Z_sparse\n",
    "del Y_data_user_ids\n",
    "del P_data_user_ids"
   ]
  },
  {
   "cell_type": "markdown",
   "metadata": {},
   "source": [
    "## Initialization\n",
    "$\\mu$ has 1 type available <br />\n",
    "R has 4 types available"
   ]
  },
  {
   "cell_type": "code",
   "execution_count": 10,
   "metadata": {},
   "outputs": [
    {
     "name": "stderr",
     "output_type": "stream",
     "text": [
      "100%|██████████| 137328/137328 [00:14<00:00, 9359.09it/s] \n"
     ]
    }
   ],
   "source": [
    "# initial estimate of mu\n",
    "N = 0\n",
    "H_yty_t = 0\n",
    "    \n",
    "for (H_yt, H_xt, H_yt_trans, H_xt_trans, k_t, Z_t, y_t, x_t, movie_ids_t, labels_t) in tqdm(data_preprocessed):\n",
    "    N += tf.matmul(H_yt_trans, H_yt)\n",
    "    H_yty_t += tf.matmul(H_yt_trans, y_t)"
   ]
  },
  {
   "cell_type": "code",
   "execution_count": 11,
   "metadata": {},
   "outputs": [
    {
     "data": {
      "text/plain": [
       "<tf.Tensor: shape=(100, 100), dtype=float64, numpy=\n",
       "array([[20017.,     0.,     0., ...,     0.,     0.,     0.],\n",
       "       [    0., 23917.,     0., ...,     0.,     0.,     0.],\n",
       "       [    0.,     0., 31634., ...,     0.,     0.,     0.],\n",
       "       ...,\n",
       "       [    0.,     0.,     0., ..., 60896.,     0.,     0.],\n",
       "       [    0.,     0.,     0., ...,     0., 61521.,     0.],\n",
       "       [    0.,     0.,     0., ...,     0.,     0., 64506.]])>"
      ]
     },
     "execution_count": 11,
     "metadata": {},
     "output_type": "execute_result"
    }
   ],
   "source": [
    "# The ith diagonal element of N equals the total number of ratings of the ith product.\n",
    "N"
   ]
  },
  {
   "cell_type": "code",
   "execution_count": 12,
   "metadata": {},
   "outputs": [
    {
     "data": {
      "text/plain": [
       "<tf.Tensor: shape=(1, 100), dtype=float64, numpy=\n",
       "array([[3.45266523, 3.57674457, 3.28788645, 3.90478757, 3.79035475,\n",
       "        3.44415598, 3.19071562, 4.52835008, 3.82013753, 3.6159503 ,\n",
       "        3.40382731, 3.83725101, 4.07603884, 4.22836664, 3.35395465,\n",
       "        4.0645276 , 3.72119599, 3.48700861, 4.16388921, 3.40982441,\n",
       "        3.86926003, 3.43583485, 3.20324443, 4.08487897, 3.23199846,\n",
       "        3.88664794, 4.33189497, 4.38358165, 4.31638739, 3.86591733,\n",
       "        4.33975717, 3.89147883, 3.70029269, 3.36247781, 4.32901523,\n",
       "        4.06706884, 4.56922029, 3.77104091, 3.68586682, 3.84532386,\n",
       "        4.3454114 , 3.90999207, 3.39949928, 3.60786807, 3.96267104,\n",
       "        4.14386102, 3.4072049 , 3.7040225 , 4.00350359, 4.64280228,\n",
       "        3.21623279, 3.77238583, 4.26565116, 4.45377313, 3.83848945,\n",
       "        3.79374176, 3.7629172 , 3.88698608, 3.80041727, 4.34696995,\n",
       "        3.80469565, 3.84624795, 3.64122601, 3.27221683, 3.42333499,\n",
       "        3.71631568, 3.20698918, 4.45410441, 4.26541296, 3.86109184,\n",
       "        4.48300912, 4.36214633, 3.53881394, 4.11710733, 3.89469836,\n",
       "        3.36079261, 4.17943046, 3.57937229, 3.63978239, 3.97593945,\n",
       "        3.75073493, 3.82111027, 4.0340625 , 3.95830124, 3.49137664,\n",
       "        3.47419713, 3.82147924, 3.64295837, 3.47428571, 3.63893732,\n",
       "        3.45263392, 3.50476104, 4.36729116, 4.36178889, 4.01151688,\n",
       "        4.19239538, 3.48068086, 3.85856214, 3.80258773, 3.38737482]])>"
      ]
     },
     "execution_count": 12,
     "metadata": {},
     "output_type": "execute_result"
    }
   ],
   "source": [
    "mu_hat0 = tf.matmul(tf.linalg.inv(N), H_yty_t)\n",
    "tf.transpose(mu_hat0)"
   ]
  },
  {
   "cell_type": "code",
   "execution_count": 13,
   "metadata": {},
   "outputs": [
    {
     "data": {
      "text/plain": [
       "<tf.Tensor: shape=(100, 100), dtype=float64, numpy=\n",
       "array([[1., 0., 0., ..., 0., 0., 0.],\n",
       "       [0., 1., 0., ..., 0., 0., 0.],\n",
       "       [0., 0., 1., ..., 0., 0., 0.],\n",
       "       ...,\n",
       "       [0., 0., 0., ..., 1., 0., 0.],\n",
       "       [0., 0., 0., ..., 0., 1., 0.],\n",
       "       [0., 0., 0., ..., 0., 0., 1.]])>"
      ]
     },
     "execution_count": 13,
     "metadata": {},
     "output_type": "execute_result"
    }
   ],
   "source": [
    "# initial estimates of R (4 types available)\n",
    "R_hat0_1 = tf.eye(k, dtype=tf.float64)\n",
    "R_hat0_1"
   ]
  },
  {
   "cell_type": "code",
   "execution_count": 14,
   "metadata": {
    "scrolled": true
   },
   "outputs": [
    {
     "name": "stderr",
     "output_type": "stream",
     "text": [
      "100%|██████████| 137328/137328 [00:21<00:00, 6323.46it/s]\n"
     ]
    }
   ],
   "source": [
    "S = 0\n",
    "for (H_yt, H_xt, H_yt_trans, H_xt_trans, k_t, Z_t, y_t, x_t, movie_ids_t, labels_t) in tqdm(data_preprocessed):\n",
    "    Hytmu_hat0 = tf.matmul(H_yt, mu_hat0)\n",
    "    S += H_yt_trans @ (y_t - Hytmu_hat0) @ tf.transpose(y_t - Hytmu_hat0) @ H_yt"
   ]
  },
  {
   "cell_type": "code",
   "execution_count": 15,
   "metadata": {
    "scrolled": true
   },
   "outputs": [
    {
     "data": {
      "text/plain": [
       "<tf.Tensor: shape=(100, 100), dtype=float64, numpy=\n",
       "array([[1.72440427, 0.        , 0.        , ..., 0.        , 0.        ,\n",
       "        0.        ],\n",
       "       [0.        , 0.94219113, 0.        , ..., 0.        , 0.        ,\n",
       "        0.        ],\n",
       "       [0.        , 0.        , 1.43659411, ..., 0.        , 0.        ,\n",
       "        0.        ],\n",
       "       ...,\n",
       "       [0.        , 0.        , 0.        , ..., 1.18291506, 0.        ,\n",
       "        0.        ],\n",
       "       [0.        , 0.        , 0.        , ..., 0.        , 1.03485685,\n",
       "        0.        ],\n",
       "       [0.        , 0.        , 0.        , ..., 0.        , 0.        ,\n",
       "        1.26227449]])>"
      ]
     },
     "execution_count": 15,
     "metadata": {},
     "output_type": "execute_result"
    }
   ],
   "source": [
    "# diag_S is the diagonal matrix consisting of the diagonal elements of S\n",
    "diag_S = tf.linalg.diag(tf.linalg.tensor_diag_part(S))\n",
    "R_hat0_2 = tf.matmul(tf.linalg.inv(N), diag_S)\n",
    "R_hat0_2"
   ]
  },
  {
   "cell_type": "code",
   "execution_count": 16,
   "metadata": {},
   "outputs": [
    {
     "data": {
      "text/plain": [
       "<tf.Tensor: shape=(100, 100), dtype=float64, numpy=\n",
       "array([[ 1.        ,  0.07418256, -0.01158277, ..., -0.01462987,\n",
       "        -0.02215371, -0.01844816],\n",
       "       [ 0.07418256,  1.        ,  0.03674347, ...,  0.0256191 ,\n",
       "         0.03563234,  0.03926307],\n",
       "       [-0.01158277,  0.03674347,  1.        , ...,  0.10955311,\n",
       "         0.12823359,  0.15560634],\n",
       "       ...,\n",
       "       [-0.01462987,  0.0256191 ,  0.10955311, ...,  1.        ,\n",
       "         0.19781317,  0.15164928],\n",
       "       [-0.02215371,  0.03563234,  0.12823359, ...,  0.19781317,\n",
       "         1.        ,  0.18995689],\n",
       "       [-0.01844816,  0.03926307,  0.15560634, ...,  0.15164928,\n",
       "         0.18995689,  1.        ]])>"
      ]
     },
     "execution_count": 16,
     "metadata": {},
     "output_type": "execute_result"
    }
   ],
   "source": [
    "# R_hat0_3 is not a good initializer when rating variances are far from one\n",
    "R_hat0_3 = tf.matmul(tf.linalg.sqrtm(tf.linalg.inv(diag_S)), tf.matmul(S, tf.linalg.sqrtm(tf.linalg.inv(diag_S))))\n",
    "R_hat0_3"
   ]
  },
  {
   "cell_type": "code",
   "execution_count": 17,
   "metadata": {},
   "outputs": [
    {
     "data": {
      "text/plain": [
       "<tf.Tensor: shape=(100, 100), dtype=float64, numpy=\n",
       "array([[ 1.72440427,  0.09455639, -0.01823052, ..., -0.02089473,\n",
       "        -0.02959417, -0.02721758],\n",
       "       [ 0.09455639,  0.94219113,  0.04274809, ...,  0.02704644,\n",
       "         0.03518471,  0.04281842],\n",
       "       [-0.01823052,  0.04274809,  1.43659411, ...,  0.14281326,\n",
       "         0.15635399,  0.20954206],\n",
       "       ...,\n",
       "       [-0.02089473,  0.02704644,  0.14281326, ...,  1.18291506,\n",
       "         0.21886288,  0.18530794],\n",
       "       [-0.02959417,  0.03518471,  0.15635399, ...,  0.21886288,\n",
       "         1.03485685,  0.21710614],\n",
       "       [-0.02721758,  0.04281842,  0.20954206, ...,  0.18530794,\n",
       "         0.21710614,  1.26227449]])>"
      ]
     },
     "execution_count": 17,
     "metadata": {},
     "output_type": "execute_result"
    }
   ],
   "source": [
    "R_hat0_4 = tf.matmul(tf.linalg.sqrtm(tf.linalg.inv(N)), tf.matmul(S, tf.linalg.sqrtm(tf.linalg.inv(N))))\n",
    "R_hat0_4"
   ]
  },
  {
   "cell_type": "markdown",
   "metadata": {},
   "source": [
    "## Expectation Maximization Algorithm"
   ]
  },
  {
   "cell_type": "code",
   "execution_count": 18,
   "metadata": {},
   "outputs": [],
   "source": [
    "LOG_2PI = tf.math.log(2*tf.constant(np.pi, dtype=tf.float64))\n",
    "\n",
    "@tf.function(experimental_relax_shapes=True)\n",
    "def run_graph_em(mu, R, y_t, H_xt, H_xt_trans, H_yt, H_yt_trans, k_t):\n",
    "    # for R estimation\n",
    "    R_xt = H_xt @ R @ H_xt_trans\n",
    "    R_yt = H_yt @ R @ H_yt_trans\n",
    "    R_yt_det = tf.linalg.det(R_yt)\n",
    "    R_yt_inv = tf.linalg.inv(R_yt)\n",
    "    R_xtyt = H_xt @ R @ H_yt_trans\n",
    "\n",
    "    mu_yt = tf.matmul(H_yt, mu)\n",
    "    mu_xt = tf.matmul(H_xt, mu)\n",
    "\n",
    "    X_t_hat = R_xtyt @ R_yt_inv @ (y_t - mu_yt) + mu_xt\n",
    "    Z_t_hat = H_yt_trans @ y_t + H_xt_trans @ X_t_hat\n",
    "    \n",
    "    R_hat_sum_part = (Z_t_hat - mu) @ tf.transpose(Z_t_hat - mu) \\\n",
    "                        + H_xt_trans @ (R_xt - R_xtyt @ R_yt_inv @ tf.transpose(R_xtyt)) @ H_xt\n",
    "\n",
    "    # for mu estimation\n",
    "    Hyt_trans_Ryt_inv_Hyt_sum_part = H_yt_trans @ R_yt_inv @ H_yt\n",
    "    Hyt_trans_Ryt_inv_yt_sum_part = H_yt_trans @ R_yt_inv @ y_t\n",
    "    \n",
    "    # for log likelihood calculation\n",
    "    log_p_hat_part = -1/2*(tf.math.log(R_yt_det) + tf.transpose(y_t - mu_yt) @ R_yt_inv @ (y_t - mu_yt) + k_t*LOG_2PI) \n",
    "    \n",
    "    return R_hat_sum_part, Hyt_trans_Ryt_inv_Hyt_sum_part, Hyt_trans_Ryt_inv_yt_sum_part, log_p_hat_part"
   ]
  },
  {
   "cell_type": "code",
   "execution_count": 19,
   "metadata": {},
   "outputs": [],
   "source": [
    "def expectation_maximization(mu, R):\n",
    "    Hyt_trans_Ryt_inv_Hyt_sum = 0\n",
    "    Hyt_trans_Ryt_inv_yt_sum = 0\n",
    "    R_hat_sum = 0\n",
    "    log_p_hat = 0\n",
    "    \n",
    "    for (H_yt, H_xt, H_yt_trans, H_xt_trans, k_t, Z_t, y_t, x_t, movie_ids_t, labels_t) in tqdm(data_preprocessed):\n",
    "        R_hat_sum_part, Hyt_trans_Ryt_inv_Hyt_sum_part, Hyt_trans_Ryt_inv_yt_sum_part, log_p_hat_part = \\\n",
    "            run_graph_em(mu, R, y_t, H_xt, H_xt_trans, H_yt, H_yt_trans, k_t)\n",
    "        \n",
    "        R_hat_sum += R_hat_sum_part\n",
    "        Hyt_trans_Ryt_inv_Hyt_sum += Hyt_trans_Ryt_inv_Hyt_sum_part\n",
    "        Hyt_trans_Ryt_inv_yt_sum += Hyt_trans_Ryt_inv_yt_sum_part\n",
    "        log_p_hat += log_p_hat_part\n",
    "        \n",
    "    R_hat = R_hat_sum / n\n",
    "    mu_hat = tf.matmul(tf.linalg.inv(Hyt_trans_Ryt_inv_Hyt_sum), Hyt_trans_Ryt_inv_yt_sum)    \n",
    "    return mu_hat, R_hat, log_p_hat"
   ]
  },
  {
   "cell_type": "code",
   "execution_count": 20,
   "metadata": {},
   "outputs": [
    {
     "name": "stderr",
     "output_type": "stream",
     "text": [
      "  0%|          | 1/137328 [00:00<7:22:28,  5.17it/s]"
     ]
    },
    {
     "name": "stdout",
     "output_type": "stream",
     "text": [
      "iteration: 0\n"
     ]
    },
    {
     "name": "stderr",
     "output_type": "stream",
     "text": [
      "100%|██████████| 137328/137328 [02:05<00:00, 1095.41it/s]\n",
      "  0%|          | 107/137328 [00:00<02:09, 1061.38it/s]"
     ]
    },
    {
     "name": "stdout",
     "output_type": "stream",
     "text": [
      "normalized log_p_hat: -32.23267266620053\n",
      "normalized log_p:     -inf\n",
      "convergence gap:      inf\n"
     ]
    },
    {
     "name": "stderr",
     "output_type": "stream",
     "text": [
      "100%|██████████| 137328/137328 [02:03<00:00, 1115.24it/s]\n",
      "  0%|          | 104/137328 [00:00<02:12, 1038.99it/s]"
     ]
    },
    {
     "name": "stdout",
     "output_type": "stream",
     "text": [
      "normalized log_p_hat: -31.935708124463915\n",
      "normalized log_p:     -32.23267266620053\n",
      "convergence gap:      0.2969645417366138\n"
     ]
    },
    {
     "name": "stderr",
     "output_type": "stream",
     "text": [
      "100%|██████████| 137328/137328 [01:59<00:00, 1145.74it/s]\n",
      "  0%|          | 124/137328 [00:00<01:51, 1230.70it/s]"
     ]
    },
    {
     "name": "stdout",
     "output_type": "stream",
     "text": [
      "normalized log_p_hat: -31.783971765856748\n",
      "normalized log_p:     -31.935708124463915\n",
      "convergence gap:      0.15173635860716672\n"
     ]
    },
    {
     "name": "stderr",
     "output_type": "stream",
     "text": [
      "100%|██████████| 137328/137328 [01:55<00:00, 1189.90it/s]\n",
      "  0%|          | 124/137328 [00:00<01:50, 1239.34it/s]"
     ]
    },
    {
     "name": "stdout",
     "output_type": "stream",
     "text": [
      "normalized log_p_hat: -31.68821475729513\n",
      "normalized log_p:     -31.783971765856748\n",
      "convergence gap:      0.09575700856161973\n"
     ]
    },
    {
     "name": "stderr",
     "output_type": "stream",
     "text": [
      "100%|██████████| 137328/137328 [01:55<00:00, 1184.97it/s]\n",
      "  0%|          | 114/137328 [00:00<02:01, 1130.91it/s]"
     ]
    },
    {
     "name": "stdout",
     "output_type": "stream",
     "text": [
      "normalized log_p_hat: -31.62162645616368\n",
      "normalized log_p:     -31.68821475729513\n",
      "convergence gap:      0.06658830113144987\n",
      "iteration: 5\n"
     ]
    },
    {
     "name": "stderr",
     "output_type": "stream",
     "text": [
      "100%|██████████| 137328/137328 [01:57<00:00, 1166.77it/s]\n",
      "  0%|          | 111/137328 [00:00<02:04, 1102.72it/s]"
     ]
    },
    {
     "name": "stdout",
     "output_type": "stream",
     "text": [
      "normalized log_p_hat: -31.573243249771807\n",
      "normalized log_p:     -31.62162645616368\n",
      "convergence gap:      0.04838320639187188\n"
     ]
    },
    {
     "name": "stderr",
     "output_type": "stream",
     "text": [
      "100%|██████████| 137328/137328 [01:57<00:00, 1164.64it/s]\n",
      "  0%|          | 239/137328 [00:00<01:54, 1200.43it/s]"
     ]
    },
    {
     "name": "stdout",
     "output_type": "stream",
     "text": [
      "normalized log_p_hat: -31.537223741214067\n",
      "normalized log_p:     -31.573243249771807\n",
      "convergence gap:      0.0360195085577395\n"
     ]
    },
    {
     "name": "stderr",
     "output_type": "stream",
     "text": [
      "100%|██████████| 137328/137328 [01:57<00:00, 1173.34it/s]\n",
      "  0%|          | 247/137328 [00:00<01:51, 1231.74it/s]"
     ]
    },
    {
     "name": "stdout",
     "output_type": "stream",
     "text": [
      "normalized log_p_hat: -31.509964661098955\n",
      "normalized log_p:     -31.537223741214067\n",
      "convergence gap:      0.0272590801151118\n"
     ]
    },
    {
     "name": "stderr",
     "output_type": "stream",
     "text": [
      "100%|██████████| 137328/137328 [02:00<00:00, 1135.07it/s]\n",
      "  0%|          | 117/137328 [00:00<01:58, 1160.96it/s]"
     ]
    },
    {
     "name": "stdout",
     "output_type": "stream",
     "text": [
      "normalized log_p_hat: -31.489087091946207\n",
      "normalized log_p:     -31.509964661098955\n",
      "convergence gap:      0.02087756915274852\n"
     ]
    },
    {
     "name": "stderr",
     "output_type": "stream",
     "text": [
      "100%|██████████| 137328/137328 [02:00<00:00, 1138.77it/s]\n",
      "  0%|          | 114/137328 [00:00<02:01, 1131.31it/s]"
     ]
    },
    {
     "name": "stdout",
     "output_type": "stream",
     "text": [
      "normalized log_p_hat: -31.472953845101234\n",
      "normalized log_p:     -31.489087091946207\n",
      "convergence gap:      0.01613324684497286\n",
      "iteration: 10\n"
     ]
    },
    {
     "name": "stderr",
     "output_type": "stream",
     "text": [
      "100%|██████████| 137328/137328 [01:58<00:00, 1155.27it/s]\n",
      "  0%|          | 237/137328 [00:00<01:55, 1183.88it/s]"
     ]
    },
    {
     "name": "stdout",
     "output_type": "stream",
     "text": [
      "normalized log_p_hat: -31.460401700272747\n",
      "normalized log_p:     -31.472953845101234\n",
      "convergence gap:      0.012552144828486433\n"
     ]
    },
    {
     "name": "stderr",
     "output_type": "stream",
     "text": [
      "100%|██████████| 137328/137328 [02:00<00:00, 1143.40it/s]\n",
      "  0%|          | 213/137328 [00:00<02:09, 1062.32it/s]"
     ]
    },
    {
     "name": "stdout",
     "output_type": "stream",
     "text": [
      "normalized log_p_hat: -31.450582796059315\n",
      "normalized log_p:     -31.460401700272747\n",
      "convergence gap:      0.009818904213432234\n"
     ]
    },
    {
     "name": "stderr",
     "output_type": "stream",
     "text": [
      "100%|██████████| 137328/137328 [01:59<00:00, 1149.23it/s]\n",
      "  0%|          | 220/137328 [00:00<02:05, 1095.99it/s]"
     ]
    },
    {
     "name": "stdout",
     "output_type": "stream",
     "text": [
      "normalized log_p_hat: -31.442866788410797\n",
      "normalized log_p:     -31.450582796059315\n",
      "convergence gap:      0.007716007648518541\n"
     ]
    },
    {
     "name": "stderr",
     "output_type": "stream",
     "text": [
      "100%|██████████| 137328/137328 [02:05<00:00, 1098.24it/s]\n",
      "  0%|          | 116/137328 [00:00<01:58, 1153.35it/s]"
     ]
    },
    {
     "name": "stdout",
     "output_type": "stream",
     "text": [
      "normalized log_p_hat: -31.436778194800365\n",
      "normalized log_p:     -31.442866788410797\n",
      "convergence gap:      0.006088593610432014\n"
     ]
    },
    {
     "name": "stderr",
     "output_type": "stream",
     "text": [
      "100%|██████████| 137328/137328 [01:58<00:00, 1162.91it/s]\n",
      "  0%|          | 125/137328 [00:00<01:50, 1241.51it/s]"
     ]
    },
    {
     "name": "stdout",
     "output_type": "stream",
     "text": [
      "normalized log_p_hat: -31.431954690094038\n",
      "normalized log_p:     -31.436778194800365\n",
      "convergence gap:      0.004823504706326531\n",
      "iteration: 15\n"
     ]
    },
    {
     "name": "stderr",
     "output_type": "stream",
     "text": [
      "100%|██████████| 137328/137328 [01:59<00:00, 1148.08it/s]\n",
      "  0%|          | 89/137328 [00:00<02:35, 882.40it/s]"
     ]
    },
    {
     "name": "stdout",
     "output_type": "stream",
     "text": [
      "normalized log_p_hat: -31.428118271647552\n",
      "normalized log_p:     -31.431954690094038\n",
      "convergence gap:      0.0038364184464860784\n"
     ]
    },
    {
     "name": "stderr",
     "output_type": "stream",
     "text": [
      "100%|██████████| 137328/137328 [02:08<00:00, 1072.25it/s]\n",
      "  0%|          | 119/137328 [00:00<01:56, 1180.80it/s]"
     ]
    },
    {
     "name": "stdout",
     "output_type": "stream",
     "text": [
      "normalized log_p_hat: -31.42505463546097\n",
      "normalized log_p:     -31.428118271647552\n",
      "convergence gap:      0.0030636361865816752\n"
     ]
    },
    {
     "name": "stderr",
     "output_type": "stream",
     "text": [
      "100%|██████████| 137328/137328 [01:57<00:00, 1170.58it/s]\n",
      "  0%|          | 121/137328 [00:00<01:53, 1207.40it/s]"
     ]
    },
    {
     "name": "stdout",
     "output_type": "stream",
     "text": [
      "normalized log_p_hat: -31.422598022641022\n",
      "normalized log_p:     -31.42505463546097\n",
      "convergence gap:      0.002456612819948134\n"
     ]
    },
    {
     "name": "stderr",
     "output_type": "stream",
     "text": [
      "100%|██████████| 137328/137328 [01:59<00:00, 1153.56it/s]\n",
      "  0%|          | 116/137328 [00:00<01:59, 1150.22it/s]"
     ]
    },
    {
     "name": "stdout",
     "output_type": "stream",
     "text": [
      "normalized log_p_hat: -31.420619870288082\n",
      "normalized log_p:     -31.422598022641022\n",
      "convergence gap:      0.001978152352940299\n"
     ]
    },
    {
     "name": "stderr",
     "output_type": "stream",
     "text": [
      "100%|██████████| 137328/137328 [01:56<00:00, 1178.58it/s]\n",
      "  0%|          | 247/137328 [00:00<01:51, 1226.72it/s]"
     ]
    },
    {
     "name": "stdout",
     "output_type": "stream",
     "text": [
      "normalized log_p_hat: -31.419020207835388\n",
      "normalized log_p:     -31.420619870288082\n",
      "convergence gap:      0.0015996624526941616\n",
      "iteration: 20\n"
     ]
    },
    {
     "name": "stderr",
     "output_type": "stream",
     "text": [
      "100%|██████████| 137328/137328 [01:56<00:00, 1183.73it/s]\n",
      "  0%|          | 243/137328 [00:00<01:53, 1204.99it/s]"
     ]
    },
    {
     "name": "stdout",
     "output_type": "stream",
     "text": [
      "normalized log_p_hat: -31.41772108965544\n",
      "normalized log_p:     -31.419020207835388\n",
      "convergence gap:      0.0012991181799471008\n"
     ]
    },
    {
     "name": "stderr",
     "output_type": "stream",
     "text": [
      "100%|██████████| 137328/137328 [02:03<00:00, 1114.58it/s]\n",
      "  0%|          | 122/137328 [00:00<01:52, 1216.58it/s]"
     ]
    },
    {
     "name": "stdout",
     "output_type": "stream",
     "text": [
      "normalized log_p_hat: -31.416661564784253\n",
      "normalized log_p:     -31.41772108965544\n",
      "convergence gap:      0.001059524871187989\n"
     ]
    },
    {
     "name": "stderr",
     "output_type": "stream",
     "text": [
      "100%|██████████| 137328/137328 [01:49<00:00, 1250.26it/s]\n",
      "  0%|          | 122/137328 [00:00<01:52, 1219.78it/s]"
     ]
    },
    {
     "name": "stdout",
     "output_type": "stream",
     "text": [
      "normalized log_p_hat: -31.4157938181978\n",
      "normalized log_p:     -31.416661564784253\n",
      "convergence gap:      0.0008677465864543876\n"
     ]
    },
    {
     "name": "stderr",
     "output_type": "stream",
     "text": [
      "100%|██████████| 137328/137328 [02:05<00:00, 1090.21it/s]\n",
      "  0%|          | 116/137328 [00:00<01:58, 1156.72it/s]"
     ]
    },
    {
     "name": "stdout",
     "output_type": "stream",
     "text": [
      "normalized log_p_hat: -31.415080208803396\n",
      "normalized log_p:     -31.4157938181978\n",
      "convergence gap:      0.0007136093944026811\n"
     ]
    },
    {
     "name": "stderr",
     "output_type": "stream",
     "text": [
      "100%|██████████| 137328/137328 [01:54<00:00, 1201.49it/s]\n",
      "  0%|          | 128/137328 [00:00<01:47, 1278.64it/s]"
     ]
    },
    {
     "name": "stdout",
     "output_type": "stream",
     "text": [
      "normalized log_p_hat: -31.414490994453352\n",
      "normalized log_p:     -31.415080208803396\n",
      "convergence gap:      0.0005892143500432212\n",
      "iteration: 25\n"
     ]
    },
    {
     "name": "stderr",
     "output_type": "stream",
     "text": [
      "100%|██████████| 137328/137328 [01:51<00:00, 1230.33it/s]"
     ]
    },
    {
     "name": "stdout",
     "output_type": "stream",
     "text": [
      "normalized log_p_hat: -31.414002583121093\n",
      "normalized log_p:     -31.414490994453352\n",
      "convergence gap:      0.0004884113322596306\n"
     ]
    },
    {
     "name": "stderr",
     "output_type": "stream",
     "text": [
      "\n"
     ]
    }
   ],
   "source": [
    "delta = 0.0005\n",
    "mu = mu_hat0\n",
    "R = R_hat0_4\n",
    "log_p = tf.constant(-np.inf, dtype=tf.float64)\n",
    "\n",
    "for i in range(30):\n",
    "    if i % 5 == 0:\n",
    "        print(f'iteration: {i}')\n",
    "    \n",
    "    mu_hat, R_hat, log_p_hat = expectation_maximization(mu, R)\n",
    "    convergence_criterion = log_p_hat/n - log_p/n < delta\n",
    "    \n",
    "    print('normalized log_p_hat:', (log_p_hat/n).numpy().flatten()[0])\n",
    "    print('normalized log_p:    ', (log_p/n).numpy().flatten()[0])\n",
    "    print('convergence gap:     ', (log_p_hat/n - log_p/n).numpy().flatten()[0])\n",
    "    \n",
    "    if convergence_criterion:\n",
    "        break\n",
    "        \n",
    "    # use new estimattions for next iteration\n",
    "    mu = mu_hat\n",
    "    R = R_hat\n",
    "    log_p = log_p_hat"
   ]
  },
  {
   "cell_type": "code",
   "execution_count": 21,
   "metadata": {},
   "outputs": [],
   "source": [
    "# 26 iterations, ~38 min\n",
    "np.save('results/em_mu.npy', mu_hat)\n",
    "np.save('results/em_R.npy', R_hat)\n",
    "np.save('results/em_log_p.npy', log_p_hat)"
   ]
  },
  {
   "cell_type": "markdown",
   "metadata": {},
   "source": [
    "## McMichael’s Algorithm"
   ]
  },
  {
   "cell_type": "code",
   "execution_count": 22,
   "metadata": {},
   "outputs": [],
   "source": [
    "@tf.function(experimental_relax_shapes=True)\n",
    "def run_graph_mcmichael(mu, R, y_t, H_yt, H_yt_trans, k_t):\n",
    "    # for R estimation\n",
    "    R_yt = H_yt @ R @ H_yt_trans\n",
    "    R_yt_det = tf.linalg.det(R_yt)\n",
    "    R_yt_inv = tf.linalg.inv(R_yt)\n",
    "    mu_yt = tf.matmul(H_yt, mu)\n",
    "    log_p_gradient_part = H_yt_trans @ (R_yt_inv - R_yt_inv @ (y_t - mu_yt) @ tf.transpose(y_t - mu_yt) @ R_yt_inv) @ H_yt\n",
    "\n",
    "    # for mu estimation\n",
    "    Hyt_trans_Ryt_inv_Hyt_sum_part = H_yt_trans @ R_yt_inv @ H_yt\n",
    "    Hyt_trans_Ryt_inv_yt_sum_part = H_yt_trans @ R_yt_inv @ y_t\n",
    "    \n",
    "    # for log likelihood calculation\n",
    "    log_p_hat_part = -1/2*(tf.math.log(R_yt_det) + tf.transpose(y_t - mu_yt) @ R_yt_inv @ (y_t - mu_yt) + k_t*LOG_2PI)\n",
    "    \n",
    "    return log_p_gradient_part, Hyt_trans_Ryt_inv_Hyt_sum_part, Hyt_trans_Ryt_inv_yt_sum_part, log_p_hat_part"
   ]
  },
  {
   "cell_type": "code",
   "execution_count": 23,
   "metadata": {},
   "outputs": [],
   "source": [
    "def mcmichael(mu, R):\n",
    "    gamma = 0.00001\n",
    "    Hyt_trans_Ryt_inv_Hyt_sum = 0\n",
    "    Hyt_trans_Ryt_inv_yt_sum = 0\n",
    "    log_p_gradient = 0\n",
    "    log_p_hat = 0\n",
    "\n",
    "    for (H_yt, H_xt, H_yt_trans, H_xt_trans, k_t, Z_t, y_t, x_t, movie_ids_t, labels_t) in tqdm(data_preprocessed):\n",
    "        log_p_gradient_part, Hyt_trans_Ryt_inv_Hyt_sum_part, Hyt_trans_Ryt_inv_yt_sum_part, log_p_hat_part = \\\n",
    "            run_graph_mcmichael(mu, R, y_t, H_yt, H_yt_trans, k_t)\n",
    "        \n",
    "        log_p_gradient += log_p_gradient_part\n",
    "        Hyt_trans_Ryt_inv_Hyt_sum += Hyt_trans_Ryt_inv_Hyt_sum_part\n",
    "        Hyt_trans_Ryt_inv_yt_sum += Hyt_trans_Ryt_inv_yt_sum_part\n",
    "        log_p_hat += log_p_hat_part\n",
    "        \n",
    "    R_hat = R + gamma*(R @ (-1/2*log_p_gradient) @ R)\n",
    "    mu_hat = tf.matmul(tf.linalg.inv(Hyt_trans_Ryt_inv_Hyt_sum), Hyt_trans_Ryt_inv_yt_sum)\n",
    "    return mu_hat, R_hat, log_p_hat"
   ]
  },
  {
   "cell_type": "code",
   "execution_count": 24,
   "metadata": {},
   "outputs": [
    {
     "name": "stderr",
     "output_type": "stream",
     "text": [
      "  0%|          | 0/137328 [00:00<?, ?it/s]"
     ]
    },
    {
     "name": "stdout",
     "output_type": "stream",
     "text": [
      "iteration: 0\n"
     ]
    },
    {
     "name": "stderr",
     "output_type": "stream",
     "text": [
      "100%|██████████| 137328/137328 [01:25<00:00, 1605.61it/s]\n",
      "  0%|          | 168/137328 [00:00<01:21, 1673.87it/s]"
     ]
    },
    {
     "name": "stdout",
     "output_type": "stream",
     "text": [
      "normalized log_p_hat: -32.23267266620053\n",
      "normalized log_p:     -inf\n",
      "convergence gap:      inf\n"
     ]
    },
    {
     "name": "stderr",
     "output_type": "stream",
     "text": [
      "100%|██████████| 137328/137328 [01:24<00:00, 1630.26it/s]\n",
      "  0%|          | 165/137328 [00:00<01:23, 1647.38it/s]"
     ]
    },
    {
     "name": "stdout",
     "output_type": "stream",
     "text": [
      "normalized log_p_hat: -32.0069453647492\n",
      "normalized log_p:     -32.23267266620053\n",
      "convergence gap:      0.2257273014513288\n"
     ]
    },
    {
     "name": "stderr",
     "output_type": "stream",
     "text": [
      "100%|██████████| 137328/137328 [01:21<00:00, 1693.44it/s]\n",
      "  0%|          | 172/137328 [00:00<01:20, 1712.98it/s]"
     ]
    },
    {
     "name": "stdout",
     "output_type": "stream",
     "text": [
      "normalized log_p_hat: -31.87427149044739\n",
      "normalized log_p:     -32.0069453647492\n",
      "convergence gap:      0.13267387430180833\n"
     ]
    },
    {
     "name": "stderr",
     "output_type": "stream",
     "text": [
      "100%|██████████| 137328/137328 [01:19<00:00, 1719.26it/s]\n",
      "  0%|          | 176/137328 [00:00<01:18, 1752.04it/s]"
     ]
    },
    {
     "name": "stdout",
     "output_type": "stream",
     "text": [
      "normalized log_p_hat: -31.782812613324058\n",
      "normalized log_p:     -31.87427149044739\n",
      "convergence gap:      0.09145887712333334\n"
     ]
    },
    {
     "name": "stderr",
     "output_type": "stream",
     "text": [
      "100%|██████████| 137328/137328 [01:19<00:00, 1723.87it/s]\n",
      "  0%|          | 170/137328 [00:00<01:21, 1692.11it/s]"
     ]
    },
    {
     "name": "stdout",
     "output_type": "stream",
     "text": [
      "normalized log_p_hat: -31.714939723299512\n",
      "normalized log_p:     -31.782812613324058\n",
      "convergence gap:      0.067872890024546\n",
      "iteration: 5\n"
     ]
    },
    {
     "name": "stderr",
     "output_type": "stream",
     "text": [
      "100%|██████████| 137328/137328 [01:20<00:00, 1702.77it/s]\n",
      "  0%|          | 173/137328 [00:00<01:19, 1729.74it/s]"
     ]
    },
    {
     "name": "stdout",
     "output_type": "stream",
     "text": [
      "normalized log_p_hat: -31.66230112168724\n",
      "normalized log_p:     -31.714939723299512\n",
      "convergence gap:      0.05263860161227285\n"
     ]
    },
    {
     "name": "stderr",
     "output_type": "stream",
     "text": [
      "100%|██████████| 137328/137328 [01:20<00:00, 1714.45it/s]\n",
      "  0%|          | 355/137328 [00:00<01:17, 1762.07it/s]"
     ]
    },
    {
     "name": "stdout",
     "output_type": "stream",
     "text": [
      "normalized log_p_hat: -31.620417069815367\n",
      "normalized log_p:     -31.66230112168724\n",
      "convergence gap:      0.04188405187187172\n"
     ]
    },
    {
     "name": "stderr",
     "output_type": "stream",
     "text": [
      "100%|██████████| 137328/137328 [01:19<00:00, 1720.73it/s]\n",
      "  0%|          | 354/137328 [00:00<01:17, 1763.20it/s]"
     ]
    },
    {
     "name": "stdout",
     "output_type": "stream",
     "text": [
      "normalized log_p_hat: -31.586550523687293\n",
      "normalized log_p:     -31.620417069815367\n",
      "convergence gap:      0.03386654612807405\n"
     ]
    },
    {
     "name": "stderr",
     "output_type": "stream",
     "text": [
      "100%|██████████| 137328/137328 [01:19<00:00, 1717.49it/s]\n",
      "  0%|          | 176/137328 [00:00<01:18, 1754.86it/s]"
     ]
    },
    {
     "name": "stdout",
     "output_type": "stream",
     "text": [
      "normalized log_p_hat: -31.558859589778326\n",
      "normalized log_p:     -31.586550523687293\n",
      "convergence gap:      0.027690933908967708\n"
     ]
    },
    {
     "name": "stderr",
     "output_type": "stream",
     "text": [
      "100%|██████████| 137328/137328 [01:19<00:00, 1726.76it/s]\n",
      "  0%|          | 169/137328 [00:00<01:21, 1685.85it/s]"
     ]
    },
    {
     "name": "stdout",
     "output_type": "stream",
     "text": [
      "normalized log_p_hat: -31.536027074323755\n",
      "normalized log_p:     -31.558859589778326\n",
      "convergence gap:      0.022832515454570768\n",
      "iteration: 10\n"
     ]
    },
    {
     "name": "stderr",
     "output_type": "stream",
     "text": [
      "100%|██████████| 137328/137328 [01:19<00:00, 1718.00it/s]\n",
      "  0%|          | 345/137328 [00:00<01:20, 1698.36it/s]"
     ]
    },
    {
     "name": "stdout",
     "output_type": "stream",
     "text": [
      "normalized log_p_hat: -31.51707511990148\n",
      "normalized log_p:     -31.536027074323755\n",
      "convergence gap:      0.018951954422274042\n"
     ]
    },
    {
     "name": "stderr",
     "output_type": "stream",
     "text": [
      "100%|██████████| 137328/137328 [01:19<00:00, 1720.66it/s]\n",
      "  0%|          | 170/137328 [00:00<01:21, 1690.48it/s]"
     ]
    },
    {
     "name": "stdout",
     "output_type": "stream",
     "text": [
      "normalized log_p_hat: -31.501259448836496\n",
      "normalized log_p:     -31.51707511990148\n",
      "convergence gap:      0.015815671064984826\n"
     ]
    },
    {
     "name": "stderr",
     "output_type": "stream",
     "text": [
      "100%|██████████| 137328/137328 [01:20<00:00, 1715.99it/s]\n",
      "  0%|          | 368/137328 [00:00<01:15, 1815.47it/s]"
     ]
    },
    {
     "name": "stdout",
     "output_type": "stream",
     "text": [
      "normalized log_p_hat: -31.488002872866485\n",
      "normalized log_p:     -31.501259448836496\n",
      "convergence gap:      0.013256575970011397\n"
     ]
    },
    {
     "name": "stderr",
     "output_type": "stream",
     "text": [
      "100%|██████████| 137328/137328 [01:21<00:00, 1677.21it/s]\n",
      "  0%|          | 173/137328 [00:00<01:19, 1728.70it/s]"
     ]
    },
    {
     "name": "stdout",
     "output_type": "stream",
     "text": [
      "normalized log_p_hat: -31.476850867045204\n",
      "normalized log_p:     -31.488002872866485\n",
      "convergence gap:      0.011152005821280397\n"
     ]
    },
    {
     "name": "stderr",
     "output_type": "stream",
     "text": [
      "100%|██████████| 137328/137328 [01:23<00:00, 1638.45it/s]\n",
      "  0%|          | 176/137328 [00:00<01:17, 1759.81it/s]"
     ]
    },
    {
     "name": "stdout",
     "output_type": "stream",
     "text": [
      "normalized log_p_hat: -31.467440782899924\n",
      "normalized log_p:     -31.476850867045204\n",
      "convergence gap:      0.009410084145279995\n",
      "iteration: 15\n"
     ]
    },
    {
     "name": "stderr",
     "output_type": "stream",
     "text": [
      "100%|██████████| 137328/137328 [01:20<00:00, 1714.62it/s]\n",
      "  0%|          | 177/137328 [00:00<01:17, 1763.61it/s]"
     ]
    },
    {
     "name": "stdout",
     "output_type": "stream",
     "text": [
      "normalized log_p_hat: -31.459480001278635\n",
      "normalized log_p:     -31.467440782899924\n",
      "convergence gap:      0.007960781621289215\n"
     ]
    },
    {
     "name": "stderr",
     "output_type": "stream",
     "text": [
      "100%|██████████| 137328/137328 [01:19<00:00, 1722.77it/s]\n",
      "  0%|          | 171/137328 [00:00<01:20, 1706.33it/s]"
     ]
    },
    {
     "name": "stdout",
     "output_type": "stream",
     "text": [
      "normalized log_p_hat: -31.452730143592913\n",
      "normalized log_p:     -31.459480001278635\n",
      "convergence gap:      0.00674985768572256\n"
     ]
    },
    {
     "name": "stderr",
     "output_type": "stream",
     "text": [
      "100%|██████████| 137328/137328 [01:20<00:00, 1708.95it/s]\n",
      "  0%|          | 341/137328 [00:00<01:20, 1694.44it/s]"
     ]
    },
    {
     "name": "stdout",
     "output_type": "stream",
     "text": [
      "normalized log_p_hat: -31.446995471130396\n",
      "normalized log_p:     -31.452730143592913\n",
      "convergence gap:      0.005734672462516244\n"
     ]
    },
    {
     "name": "stderr",
     "output_type": "stream",
     "text": [
      "100%|██████████| 137328/137328 [01:20<00:00, 1711.69it/s]\n",
      "  0%|          | 177/137328 [00:00<01:17, 1765.32it/s]"
     ]
    },
    {
     "name": "stdout",
     "output_type": "stream",
     "text": [
      "normalized log_p_hat: -31.442114220094634\n",
      "normalized log_p:     -31.446995471130396\n",
      "convergence gap:      0.004881251035762091\n"
     ]
    },
    {
     "name": "stderr",
     "output_type": "stream",
     "text": [
      "100%|██████████| 137328/137328 [01:20<00:00, 1714.81it/s]\n",
      "  0%|          | 343/137328 [00:00<01:20, 1700.39it/s]"
     ]
    },
    {
     "name": "stdout",
     "output_type": "stream",
     "text": [
      "normalized log_p_hat: -31.43795201995237\n",
      "normalized log_p:     -31.442114220094634\n",
      "convergence gap:      0.004162200142264538\n",
      "iteration: 20\n"
     ]
    },
    {
     "name": "stderr",
     "output_type": "stream",
     "text": [
      "100%|██████████| 137328/137328 [01:20<00:00, 1709.95it/s]\n",
      "  0%|          | 163/137328 [00:00<01:24, 1626.00it/s]"
     ]
    },
    {
     "name": "stdout",
     "output_type": "stream",
     "text": [
      "normalized log_p_hat: -31.434396809623163\n",
      "normalized log_p:     -31.43795201995237\n",
      "convergence gap:      0.003555210329206915\n"
     ]
    },
    {
     "name": "stderr",
     "output_type": "stream",
     "text": [
      "100%|██████████| 137328/137328 [01:18<00:00, 1743.09it/s]\n",
      "  0%|          | 180/137328 [00:00<01:16, 1792.31it/s]"
     ]
    },
    {
     "name": "stdout",
     "output_type": "stream",
     "text": [
      "normalized log_p_hat: -31.43135484668383\n",
      "normalized log_p:     -31.434396809623163\n",
      "convergence gap:      0.003041962939331455\n"
     ]
    },
    {
     "name": "stderr",
     "output_type": "stream",
     "text": [
      "100%|██████████| 137328/137328 [01:17<00:00, 1770.18it/s]\n",
      "  0%|          | 181/137328 [00:00<01:15, 1806.50it/s]"
     ]
    },
    {
     "name": "stdout",
     "output_type": "stream",
     "text": [
      "normalized log_p_hat: -31.42874752785493\n",
      "normalized log_p:     -31.43135484668383\n",
      "convergence gap:      0.002607318828900418\n"
     ]
    },
    {
     "name": "stderr",
     "output_type": "stream",
     "text": [
      "100%|██████████| 137328/137328 [01:15<00:00, 1808.53it/s]\n",
      "  0%|          | 183/137328 [00:00<01:14, 1829.78it/s]"
     ]
    },
    {
     "name": "stdout",
     "output_type": "stream",
     "text": [
      "normalized log_p_hat: -31.426508822915086\n",
      "normalized log_p:     -31.42874752785493\n",
      "convergence gap:      0.0022387049398453485\n"
     ]
    },
    {
     "name": "stderr",
     "output_type": "stream",
     "text": [
      "100%|██████████| 137328/137328 [01:15<00:00, 1808.24it/s]\n",
      "  0%|          | 182/137328 [00:00<01:15, 1813.43it/s]"
     ]
    },
    {
     "name": "stdout",
     "output_type": "stream",
     "text": [
      "normalized log_p_hat: -31.424583181429266\n",
      "normalized log_p:     -31.426508822915086\n",
      "convergence gap:      0.0019256414858190851\n",
      "iteration: 25\n"
     ]
    },
    {
     "name": "stderr",
     "output_type": "stream",
     "text": [
      "100%|██████████| 137328/137328 [01:15<00:00, 1808.43it/s]\n",
      "  0%|          | 364/137328 [00:00<01:15, 1814.25it/s]"
     ]
    },
    {
     "name": "stdout",
     "output_type": "stream",
     "text": [
      "normalized log_p_hat: -31.422923810728065\n",
      "normalized log_p:     -31.424583181429266\n",
      "convergence gap:      0.001659370701201368\n"
     ]
    },
    {
     "name": "stderr",
     "output_type": "stream",
     "text": [
      "100%|██████████| 137328/137328 [01:16<00:00, 1804.69it/s]\n",
      "  0%|          | 383/137328 [00:00<01:11, 1924.51it/s]"
     ]
    },
    {
     "name": "stdout",
     "output_type": "stream",
     "text": [
      "normalized log_p_hat: -31.421491250329314\n",
      "normalized log_p:     -31.422923810728065\n",
      "convergence gap:      0.0014325603987508373\n"
     ]
    },
    {
     "name": "stderr",
     "output_type": "stream",
     "text": [
      "100%|██████████| 137328/137328 [01:15<00:00, 1810.49it/s]\n",
      "  0%|          | 366/137328 [00:00<01:15, 1818.72it/s]"
     ]
    },
    {
     "name": "stdout",
     "output_type": "stream",
     "text": [
      "normalized log_p_hat: -31.420252186446103\n",
      "normalized log_p:     -31.421491250329314\n",
      "convergence gap:      0.0012390638832115997\n"
     ]
    },
    {
     "name": "stderr",
     "output_type": "stream",
     "text": [
      "100%|██████████| 137328/137328 [01:15<00:00, 1808.77it/s]\n",
      "  0%|          | 367/137328 [00:00<01:15, 1825.91it/s]"
     ]
    },
    {
     "name": "stdout",
     "output_type": "stream",
     "text": [
      "normalized log_p_hat: -31.41917846315028\n",
      "normalized log_p:     -31.420252186446103\n",
      "convergence gap:      0.0010737232958213383\n"
     ]
    },
    {
     "name": "stderr",
     "output_type": "stream",
     "text": [
      "100%|██████████| 137328/137328 [01:16<00:00, 1805.14it/s]\n",
      "  0%|          | 181/137328 [00:00<01:15, 1807.09it/s]"
     ]
    },
    {
     "name": "stdout",
     "output_type": "stream",
     "text": [
      "normalized log_p_hat: -31.418246255975216\n",
      "normalized log_p:     -31.41917846315028\n",
      "convergence gap:      0.0009322071750652583\n",
      "iteration: 30\n"
     ]
    },
    {
     "name": "stderr",
     "output_type": "stream",
     "text": [
      "100%|██████████| 137328/137328 [01:16<00:00, 1783.69it/s]\n",
      "  0%|          | 146/137328 [00:00<01:34, 1454.81it/s]"
     ]
    },
    {
     "name": "stdout",
     "output_type": "stream",
     "text": [
      "normalized log_p_hat: -31.417435380469346\n",
      "normalized log_p:     -31.418246255975216\n",
      "convergence gap:      0.0008108755058700012\n"
     ]
    },
    {
     "name": "stderr",
     "output_type": "stream",
     "text": [
      "100%|██████████| 137328/137328 [01:17<00:00, 1779.71it/s]\n",
      "  0%|          | 183/137328 [00:00<01:15, 1827.70it/s]"
     ]
    },
    {
     "name": "stdout",
     "output_type": "stream",
     "text": [
      "normalized log_p_hat: -31.41672871330004\n",
      "normalized log_p:     -31.417435380469346\n",
      "convergence gap:      0.0007066671693074511\n"
     ]
    },
    {
     "name": "stderr",
     "output_type": "stream",
     "text": [
      "100%|██████████| 137328/137328 [01:16<00:00, 1791.70it/s]\n",
      "  0%|          | 181/137328 [00:00<01:15, 1805.77it/s]"
     ]
    },
    {
     "name": "stdout",
     "output_type": "stream",
     "text": [
      "normalized log_p_hat: -31.416111707402408\n",
      "normalized log_p:     -31.41672871330004\n",
      "convergence gap:      0.0006170058976309178\n"
     ]
    },
    {
     "name": "stderr",
     "output_type": "stream",
     "text": [
      "100%|██████████| 137328/137328 [01:15<00:00, 1814.51it/s]\n",
      "  0%|          | 182/137328 [00:00<01:15, 1809.47it/s]"
     ]
    },
    {
     "name": "stdout",
     "output_type": "stream",
     "text": [
      "normalized log_p_hat: -31.415571985818687\n",
      "normalized log_p:     -31.416111707402408\n",
      "convergence gap:      0.0005397215837206204\n"
     ]
    },
    {
     "name": "stderr",
     "output_type": "stream",
     "text": [
      "100%|██████████| 137328/137328 [01:15<00:00, 1807.30it/s]"
     ]
    },
    {
     "name": "stdout",
     "output_type": "stream",
     "text": [
      "normalized log_p_hat: -31.415099001376582\n",
      "normalized log_p:     -31.415571985818687\n",
      "convergence gap:      0.00047298444210497337\n"
     ]
    },
    {
     "name": "stderr",
     "output_type": "stream",
     "text": [
      "\n"
     ]
    }
   ],
   "source": [
    "delta = 0.0005\n",
    "mu = mu_hat0\n",
    "R = R_hat0_4\n",
    "log_p = tf.constant(-np.inf, dtype=tf.float64)\n",
    "\n",
    "for i in range(40):\n",
    "    if i % 5 == 0:\n",
    "        print(f'iteration: {i}')\n",
    "    \n",
    "    mu_hat, R_hat, log_p_hat = mcmichael(mu, R)\n",
    "    convergence_criterion = log_p_hat/n - log_p/n < delta\n",
    "    \n",
    "    print('normalized log_p_hat:', (log_p_hat/n).numpy().flatten()[0])\n",
    "    print('normalized log_p:    ', (log_p/n).numpy().flatten()[0])\n",
    "    print('convergence gap:     ', (log_p_hat/n - log_p/n).numpy().flatten()[0])\n",
    "    \n",
    "    if convergence_criterion:\n",
    "        break\n",
    "        \n",
    "    # use new estimattions for next iteration\n",
    "    mu = mu_hat\n",
    "    R = R_hat\n",
    "    log_p = log_p_hat"
   ]
  },
  {
   "cell_type": "code",
   "execution_count": 25,
   "metadata": {},
   "outputs": [],
   "source": [
    "# 35 iterations, ~38 min\n",
    "np.save('results/mcmichael_mu.npy', mu_hat)\n",
    "np.save('results/mcmichael_R.npy', R_hat)\n",
    "np.save('results/mcmichael_log_p.npy', log_p_hat)"
   ]
  },
  {
   "cell_type": "markdown",
   "metadata": {},
   "source": [
    "## Evaluation"
   ]
  },
  {
   "cell_type": "code",
   "execution_count": 26,
   "metadata": {},
   "outputs": [],
   "source": [
    "@tf.function(experimental_relax_shapes=True)\n",
    "def run_graph_square_error(mu, R, movie_ids_t, labels_t, y_t, H_xt, H_xt_trans, H_yt, H_yt_trans):\n",
    "    # calculate X_t_hat\n",
    "    R_xt = H_xt @ R @ H_xt_trans\n",
    "    R_yt = H_yt @ R @ H_yt_trans\n",
    "    R_yt_inv = tf.linalg.inv(R_yt)\n",
    "    R_xtyt = H_xt @ R @ H_yt_trans\n",
    "\n",
    "    mu_yt = tf.matmul(H_yt, mu)\n",
    "    mu_xt = tf.matmul(H_xt, mu)\n",
    "\n",
    "    X_t_hat = R_xtyt @ R_yt_inv @ (y_t - mu_yt) + mu_xt\n",
    "    \n",
    "    # clip ratings\n",
    "    predictions_t = tf.gather(tf.matmul(H_xt_trans, X_t_hat), indices=movie_ids_t-1)\n",
    "    predictions_t = tf.clip_by_value(predictions_t, 1, 5)\n",
    "    \n",
    "    return tf.matmul(tf.transpose(labels_t - predictions_t), labels_t - predictions_t)"
   ]
  },
  {
   "cell_type": "code",
   "execution_count": 27,
   "metadata": {},
   "outputs": [],
   "source": [
    "def evaluate(mu, R):\n",
    "    square_error = 0\n",
    "    l = 0\n",
    "    for (H_yt, H_xt, H_yt_trans, H_xt_trans, k_t, Z_t, y_t, x_t, movie_ids_t, labels_t) in tqdm(data_preprocessed):\n",
    "        square_error += run_graph_square_error(mu, R, movie_ids_t, tf.cast(labels_t, dtype=tf.float64), y_t, H_xt, H_xt_trans, H_yt, H_yt_trans)\n",
    "        l += len(labels_t)\n",
    "    return np.sqrt(square_error/l)"
   ]
  },
  {
   "cell_type": "code",
   "execution_count": 28,
   "metadata": {
    "scrolled": true
   },
   "outputs": [
    {
     "name": "stderr",
     "output_type": "stream",
     "text": [
      "100%|██████████| 137328/137328 [01:34<00:00, 1454.87it/s]\n"
     ]
    },
    {
     "data": {
      "text/plain": [
       "array([[0.91700701]])"
      ]
     },
     "execution_count": 28,
     "metadata": {},
     "output_type": "execute_result"
    }
   ],
   "source": [
    "em_mu = np.load('results/em_mu.npy')\n",
    "em_R = np.load('results/em_R.npy')\n",
    "rmse = evaluate(em_mu, em_R)\n",
    "rmse"
   ]
  },
  {
   "cell_type": "code",
   "execution_count": 29,
   "metadata": {},
   "outputs": [
    {
     "name": "stderr",
     "output_type": "stream",
     "text": [
      "100%|██████████| 137328/137328 [01:36<00:00, 1425.03it/s]\n"
     ]
    },
    {
     "data": {
      "text/plain": [
       "array([[0.91701472]])"
      ]
     },
     "execution_count": 29,
     "metadata": {},
     "output_type": "execute_result"
    }
   ],
   "source": [
    "mcmichael_mu = np.load('results/mcmichael_mu.npy')\n",
    "mcmichael_R = np.load('results/mcmichael_R.npy')\n",
    "rmse = evaluate(mcmichael_mu, mcmichael_R)\n",
    "rmse"
   ]
  },
  {
   "cell_type": "code",
   "execution_count": null,
   "metadata": {},
   "outputs": [],
   "source": []
  }
 ],
 "metadata": {
  "kernelspec": {
   "display_name": "Python 3",
   "language": "python",
   "name": "python3"
  },
  "language_info": {
   "codemirror_mode": {
    "name": "ipython",
    "version": 3
   },
   "file_extension": ".py",
   "mimetype": "text/x-python",
   "name": "python",
   "nbconvert_exporter": "python",
   "pygments_lexer": "ipython3",
   "version": "3.8.5"
  }
 },
 "nbformat": 4,
 "nbformat_minor": 4
}
